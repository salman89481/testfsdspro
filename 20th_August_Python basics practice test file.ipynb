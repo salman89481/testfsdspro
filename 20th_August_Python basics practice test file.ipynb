{
 "cells": [
  {
   "cell_type": "code",
   "execution_count": 1,
   "id": "8ca9106c-ca1d-4054-a1bf-d11e6ba3de6b",
   "metadata": {},
   "outputs": [],
   "source": [
    "#TOPIC: String Based Assignment Problem"
   ]
  },
  {
   "cell_type": "code",
   "execution_count": 1,
   "id": "0b418b33-b90d-40ea-942d-4756d9a0bfc2",
   "metadata": {},
   "outputs": [
    {
     "data": {
      "text/plain": [
       "'namlas'"
      ]
     },
     "execution_count": 1,
     "metadata": {},
     "output_type": "execute_result"
    }
   ],
   "source": [
    "#Question 1\n",
    "s1 = \"salman\"\n",
    "s1[::-1]"
   ]
  },
  {
   "cell_type": "code",
   "execution_count": 2,
   "id": "5eef0668-b286-46df-b435-1f20bca6b24c",
   "metadata": {},
   "outputs": [
    {
     "name": "stdin",
     "output_type": "stream",
     "text": [
      "Enter the string: salman is a good boy.\n"
     ]
    },
    {
     "name": "stdout",
     "output_type": "stream",
     "text": [
      "string is not palindrome\n"
     ]
    }
   ],
   "source": [
    "#question 2\n",
    "string1 = input(\"Enter the string:\")\n",
    "string2 = string1[::-1]\n",
    "if (string1==string2):\n",
    "    print(\"string is palindrome\")\n",
    "else :\n",
    "    print(\"string is not palindrome\")"
   ]
  },
  {
   "cell_type": "code",
   "execution_count": 4,
   "id": "c66216cd-c221-452a-b506-e57726793502",
   "metadata": {},
   "outputs": [
    {
     "name": "stdin",
     "output_type": "stream",
     "text": [
      "Enter the string: salman\n"
     ]
    },
    {
     "data": {
      "text/plain": [
       "'SALMAN'"
      ]
     },
     "execution_count": 4,
     "metadata": {},
     "output_type": "execute_result"
    }
   ],
   "source": [
    "#question 3\n",
    "s2 = input(\"Enter the string:\")\n",
    "s2.upper()"
   ]
  },
  {
   "cell_type": "code",
   "execution_count": 5,
   "id": "17c4440b-6658-4479-a1dc-35c410cbe406",
   "metadata": {},
   "outputs": [
    {
     "name": "stdin",
     "output_type": "stream",
     "text": [
      "Enter the string: salmanAhmad\n"
     ]
    },
    {
     "data": {
      "text/plain": [
       "'salmanahmad'"
      ]
     },
     "execution_count": 5,
     "metadata": {},
     "output_type": "execute_result"
    }
   ],
   "source": [
    "#question 4\n",
    "s2 = input(\"Enter the string:\")\n",
    "s2.lower()"
   ]
  },
  {
   "cell_type": "code",
   "execution_count": 6,
   "id": "17d8c466-2db9-4fbf-92e8-5dcdf838682f",
   "metadata": {},
   "outputs": [
    {
     "name": "stdin",
     "output_type": "stream",
     "text": [
      "Enter the sentence: salman ahmad is a good man.\n"
     ]
    },
    {
     "name": "stdout",
     "output_type": "stream",
     "text": [
      "9\n"
     ]
    }
   ],
   "source": [
    "#question 5\n",
    "string3 = input(\"Enter the sentence:\")\n",
    "vowels=0\n",
    "for i in string3:\n",
    "    if (i=='a' or i=='A' or i=='e' or i=='E' or i=='i' or i=='I' or i=='o' or i=='O' or i=='u' or i=='U'):\n",
    "        vowels=vowels+1\n",
    "print(vowels)        \n",
    "    "
   ]
  },
  {
   "cell_type": "code",
   "execution_count": 7,
   "id": "0fdade36-0732-493b-bfd7-553229e2b02d",
   "metadata": {},
   "outputs": [
    {
     "name": "stdin",
     "output_type": "stream",
     "text": [
      "Enter the sentence: salman ahmad\n"
     ]
    },
    {
     "name": "stdout",
     "output_type": "stream",
     "text": [
      "7\n"
     ]
    }
   ],
   "source": [
    "# question 6\n",
    "string4 = input(\"Enter the sentence:\")\n",
    "vowels=0\n",
    "consonants=0\n",
    "string4.lower()\n",
    "string4 = string4.replace(\" \", \"\")\n",
    "for i in string4:\n",
    "    if (i=='a' or i=='e' or i=='i' or i=='o' or i=='u'):\n",
    "        vowels=vowels+1\n",
    "    else:\n",
    "        consonants = consonants+1\n",
    "print(consonants)   \n",
    "    \n",
    "    "
   ]
  },
  {
   "cell_type": "code",
   "execution_count": 8,
   "id": "6c4d9911-db57-4c9b-9ae2-e6f6777a5500",
   "metadata": {},
   "outputs": [
    {
     "name": "stdin",
     "output_type": "stream",
     "text": [
      "Enter the sentence: salman ahmad is brilliant guy .\n"
     ]
    },
    {
     "data": {
      "text/plain": [
       "'salmanahmadisbrilliantguy.'"
      ]
     },
     "execution_count": 8,
     "metadata": {},
     "output_type": "execute_result"
    }
   ],
   "source": [
    "#question 7\n",
    "s3 = input(\"Enter the sentence:\")\n",
    "s4 = \"\"\n",
    "s4.join(s3.split())"
   ]
  },
  {
   "cell_type": "code",
   "execution_count": 9,
   "id": "2b8ffc37-2273-4a02-bb5c-0526f6631178",
   "metadata": {},
   "outputs": [
    {
     "name": "stdin",
     "output_type": "stream",
     "text": [
      "Enter the sentence: salman ahmad\n"
     ]
    },
    {
     "data": {
      "text/plain": [
       "12"
      ]
     },
     "execution_count": 9,
     "metadata": {},
     "output_type": "execute_result"
    }
   ],
   "source": [
    "#question 8\n",
    "s5 = input(\"Enter the sentence:\")\n",
    "len(s5)"
   ]
  },
  {
   "cell_type": "code",
   "execution_count": 11,
   "id": "6a2851be-eb40-4449-a1bc-a500f68d5d7d",
   "metadata": {},
   "outputs": [
    {
     "name": "stdin",
     "output_type": "stream",
     "text": [
      "Enter the sentence: salman is good boy .\n"
     ]
    },
    {
     "name": "stdout",
     "output_type": "stream",
     "text": [
      "king is good boy .\n"
     ]
    }
   ],
   "source": [
    "#Question 10\n",
    "s8 = input(\"Enter the sentence:\")\n",
    "s8 = s8.replace(\"salman\" , \"king\")\n",
    "print(s8)"
   ]
  },
  {
   "cell_type": "code",
   "execution_count": 10,
   "id": "d7c09448-16ce-4a35-bed8-1f80e700173a",
   "metadata": {},
   "outputs": [
    {
     "name": "stdin",
     "output_type": "stream",
     "text": [
      "Enter the sentence: ahmad salman is a foody boy.\n"
     ]
    },
    {
     "name": "stdout",
     "output_type": "stream",
     "text": [
      "String contains the word\n"
     ]
    }
   ],
   "source": [
    "#Question 9\n",
    "s6 = input(\"Enter the sentence:\")\n",
    "s7 = \"salman\"\n",
    "if (s6.find(s7)==-1):\n",
    "    print (\" string doesnot contains the word\")\n",
    "else:\n",
    "    print(\"String contains the word\")\n"
   ]
  },
  {
   "cell_type": "code",
   "execution_count": 4,
   "id": "3bc2dbaf-135b-4193-827e-9d5ce3a62e05",
   "metadata": {},
   "outputs": [
    {
     "name": "stdin",
     "output_type": "stream",
     "text": [
      "Enter the sentence: PW is good .PW is awesome.\n"
     ]
    },
    {
     "data": {
      "text/plain": [
       "2"
      ]
     },
     "execution_count": 4,
     "metadata": {},
     "output_type": "execute_result"
    }
   ],
   "source": [
    "#Question 11\n",
    "s9 = input(\"Enter the sentence:\")\n",
    "s9.count(\"PW\")"
   ]
  },
  {
   "cell_type": "code",
   "execution_count": 5,
   "id": "581892f8-7957-41da-b81d-250b48fb0b6f",
   "metadata": {},
   "outputs": [
    {
     "name": "stdin",
     "output_type": "stream",
     "text": [
      "Enter the sentence: this is a tree.is this a tree\n"
     ]
    },
    {
     "data": {
      "text/plain": [
       "2"
      ]
     },
     "execution_count": 5,
     "metadata": {},
     "output_type": "execute_result"
    }
   ],
   "source": [
    "# Question 12\n",
    "s10 = input(\"Enter the sentence:\")\n",
    "s10.find(\"is\")#first occurence index will be shown in o/p"
   ]
  },
  {
   "cell_type": "code",
   "execution_count": 6,
   "id": "b08e4fe0-8626-43df-914a-e1c66d835e4f",
   "metadata": {},
   "outputs": [
    {
     "name": "stdin",
     "output_type": "stream",
     "text": [
      "Enter the sentence:  this is a tree.is this a tree\n"
     ]
    },
    {
     "data": {
      "text/plain": [
       "21"
      ]
     },
     "execution_count": 6,
     "metadata": {},
     "output_type": "execute_result"
    }
   ],
   "source": [
    "#question 13\n",
    "s11 = input(\"Enter the sentence:\")\n",
    "s11.rfind(\"is\")#last occurence index will be shown in o/p"
   ]
  },
  {
   "cell_type": "code",
   "execution_count": 7,
   "id": "a70d966a-41e5-4ccd-9e93-2a1eb0f24c87",
   "metadata": {},
   "outputs": [
    {
     "name": "stdin",
     "output_type": "stream",
     "text": [
      "Enter the  sentence PW is good\n"
     ]
    },
    {
     "data": {
      "text/plain": [
       "['PW', 'is', 'good']"
      ]
     },
     "execution_count": 7,
     "metadata": {},
     "output_type": "execute_result"
    }
   ],
   "source": [
    "#Question 14\n",
    "s12 = input(\"Enter the  sentence\")\n",
    "s12= s12.split()\n",
    "s12"
   ]
  },
  {
   "cell_type": "code",
   "execution_count": 8,
   "id": "6922c70f-0b70-4afe-8f1e-f76254bcd6a4",
   "metadata": {},
   "outputs": [
    {
     "data": {
      "text/plain": [
       "'salman is a smart guy.'"
      ]
     },
     "execution_count": 8,
     "metadata": {},
     "output_type": "execute_result"
    }
   ],
   "source": [
    "#Question 15\n",
    "s13 = ['salman', 'is', 'a', 'smart', 'guy.']\n",
    "s14 = \" \"\n",
    "s14.join(s13)"
   ]
  },
  {
   "cell_type": "code",
   "execution_count": 9,
   "id": "56f1380a-ded3-4d4f-b113-5c8d2fc4d073",
   "metadata": {},
   "outputs": [
    {
     "data": {
      "text/plain": [
       "'salman_is_a_smart_guy.'"
      ]
     },
     "execution_count": 9,
     "metadata": {},
     "output_type": "execute_result"
    }
   ],
   "source": [
    "#Question 16\n",
    "s15 ='salman is a smart guy.'\n",
    "s15 = s15.replace(\" \" ,\"_\" )\n",
    "s15"
   ]
  },
  {
   "cell_type": "code",
   "execution_count": 10,
   "id": "826fc5d1-ff02-4907-a736-249f969e48de",
   "metadata": {},
   "outputs": [
    {
     "name": "stdin",
     "output_type": "stream",
     "text": [
      "Enter the  sentence :  salman is awesome.\n"
     ]
    },
    {
     "data": {
      "text/plain": [
       "True"
      ]
     },
     "execution_count": 10,
     "metadata": {},
     "output_type": "execute_result"
    }
   ],
   "source": [
    "#Question 17\n",
    "s16 = input(\"Enter the  sentence : \")\n",
    "s16.startswith(\"salman\")"
   ]
  },
  {
   "cell_type": "code",
   "execution_count": 11,
   "id": "f2791b79-5f07-47e3-bdf9-27d3bb40cb89",
   "metadata": {},
   "outputs": [
    {
     "name": "stdin",
     "output_type": "stream",
     "text": [
      "Enter the  sentence :  salman is awesome man\n"
     ]
    },
    {
     "data": {
      "text/plain": [
       "True"
      ]
     },
     "execution_count": 11,
     "metadata": {},
     "output_type": "execute_result"
    }
   ],
   "source": [
    "#Question 18\n",
    "s17 = input(\"Enter the  sentence : \")\n",
    "s17.endswith(\"man\")"
   ]
  },
  {
   "cell_type": "code",
   "execution_count": 12,
   "id": "ff7d310f-037c-49cb-b8fc-9f8ac8cf1c9e",
   "metadata": {},
   "outputs": [
    {
     "name": "stdin",
     "output_type": "stream",
     "text": [
      "Enter the  sentence :  salman ahmad\n"
     ]
    },
    {
     "data": {
      "text/plain": [
       "'Salman Ahmad'"
      ]
     },
     "execution_count": 12,
     "metadata": {},
     "output_type": "execute_result"
    }
   ],
   "source": [
    "#Question 19\n",
    "s18 = input(\"Enter the  sentence : \")\n",
    "s18.title()"
   ]
  },
  {
   "cell_type": "code",
   "execution_count": 13,
   "id": "e4ffee87-a3b5-4833-84c1-4521e91e8b61",
   "metadata": {},
   "outputs": [
    {
     "name": "stdin",
     "output_type": "stream",
     "text": [
      "Enter the  sentence :  salman ahmad is good man.\n"
     ]
    },
    {
     "data": {
      "text/plain": [
       "'salman'"
      ]
     },
     "execution_count": 13,
     "metadata": {},
     "output_type": "execute_result"
    }
   ],
   "source": [
    "#Question 20\n",
    "s19 = input(\"Enter the  sentence : \")\n",
    "l3 = s19.split()\n",
    "l3 = sorted(l3, key = len)\n",
    "l3[-1]\n"
   ]
  },
  {
   "cell_type": "code",
   "execution_count": 14,
   "id": "df8e10ea-b41a-429b-ad71-e94fc6ca5e44",
   "metadata": {},
   "outputs": [
    {
     "name": "stdin",
     "output_type": "stream",
     "text": [
      "Enter the  sentence :  salman ahmad is good man\n"
     ]
    },
    {
     "data": {
      "text/plain": [
       "'is'"
      ]
     },
     "execution_count": 14,
     "metadata": {},
     "output_type": "execute_result"
    }
   ],
   "source": [
    "#Question 21\n",
    "s20 = input(\"Enter the  sentence : \")\n",
    "l4 = s20.split()\n",
    "l4 = sorted(l4, key = len)\n",
    "l4[0]"
   ]
  },
  {
   "cell_type": "code",
   "execution_count": 15,
   "id": "39c32b54-45a1-41ae-aded-603439c2d00d",
   "metadata": {},
   "outputs": [
    {
     "name": "stdin",
     "output_type": "stream",
     "text": [
      "Enter the  sentence :  salman ahmad is good.\n"
     ]
    },
    {
     "data": {
      "text/plain": [
       "'good. is ahmad salman'"
      ]
     },
     "execution_count": 15,
     "metadata": {},
     "output_type": "execute_result"
    }
   ],
   "source": [
    "#question 22\n",
    "s21 = input(\"Enter the  sentence : \")\n",
    "l5 = s21.split()\n",
    "l5.reverse()\n",
    "\" \".join(l5)\n",
    "\n"
   ]
  },
  {
   "cell_type": "code",
   "execution_count": 16,
   "id": "be53d5bd-53a2-4be2-9370-7d57d5e16b54",
   "metadata": {},
   "outputs": [
    {
     "name": "stdin",
     "output_type": "stream",
     "text": [
      "Enter the string :  salman8967\n"
     ]
    },
    {
     "data": {
      "text/plain": [
       "True"
      ]
     },
     "execution_count": 16,
     "metadata": {},
     "output_type": "execute_result"
    }
   ],
   "source": [
    "#Question 23\n",
    "s24 = input(\"Enter the string : \")\n",
    "s24.isalnum()\n",
    "#it eturn false in below string because there are white spaces and white space are not alphanumeric"
   ]
  },
  {
   "cell_type": "code",
   "execution_count": 17,
   "id": "7416243b-b54b-46a8-bab0-236c833f5bac",
   "metadata": {},
   "outputs": [
    {
     "name": "stdin",
     "output_type": "stream",
     "text": [
      "Enter the  sentence :  salman 8948 is 67salman.\n"
     ]
    },
    {
     "data": {
      "text/plain": [
       "'894867'"
      ]
     },
     "execution_count": 17,
     "metadata": {},
     "output_type": "execute_result"
    }
   ],
   "source": [
    "#Question no 24\n",
    "s22 = input(\"Enter the  sentence : \")\n",
    "digit = []\n",
    "\n",
    "for i in s22 :\n",
    "    if i.isdigit() :\n",
    "        digit.append(i)\n",
    "\"\".join(digit)        "
   ]
  },
  {
   "cell_type": "code",
   "execution_count": 18,
   "id": "8b1e19f4-50d1-405a-8f39-4439aaa04526",
   "metadata": {},
   "outputs": [
    {
     "name": "stdin",
     "output_type": "stream",
     "text": [
      "Enter the  sentence :   salman 8948 is 67salman\n"
     ]
    },
    {
     "data": {
      "text/plain": [
       "'salmanissalman'"
      ]
     },
     "execution_count": 18,
     "metadata": {},
     "output_type": "execute_result"
    }
   ],
   "source": [
    "#Question 25\n",
    "s23 = input(\"Enter the  sentence : \")\n",
    "alphabets =[]\n",
    "for i in s23:\n",
    "    if i.isalpha() :\n",
    "        alphabets.append(i)\n",
    "        \n",
    "\"\".join(alphabets)     "
   ]
  },
  {
   "cell_type": "code",
   "execution_count": 19,
   "id": "a6aca227-70af-4d19-b3b5-f70245520f34",
   "metadata": {},
   "outputs": [
    {
     "name": "stdin",
     "output_type": "stream",
     "text": [
      "Enter the string Salman is PW student.\n"
     ]
    },
    {
     "data": {
      "text/plain": [
       "3"
      ]
     },
     "execution_count": 19,
     "metadata": {},
     "output_type": "execute_result"
    }
   ],
   "source": [
    "#Question 26\n",
    "s25 = input(\"Enter the string\")\n",
    "c = 0\n",
    "for i in s25:\n",
    "    if i.isupper():\n",
    "        c+=1\n",
    "c        \n"
   ]
  },
  {
   "cell_type": "code",
   "execution_count": 20,
   "id": "aaf2de1e-d87d-4d64-b8b8-9e2d4537152b",
   "metadata": {},
   "outputs": [
    {
     "name": "stdin",
     "output_type": "stream",
     "text": [
      "Enter the string Salman PW\n"
     ]
    },
    {
     "data": {
      "text/plain": [
       "5"
      ]
     },
     "execution_count": 20,
     "metadata": {},
     "output_type": "execute_result"
    }
   ],
   "source": [
    "#Question 27\n",
    "s26 = input(\"Enter the string\")\n",
    "c = 0\n",
    "for i in s26:\n",
    "    if i.islower():\n",
    "        c+=1\n",
    "c        "
   ]
  },
  {
   "cell_type": "code",
   "execution_count": 21,
   "id": "2d43f71e-aac1-4faf-a6aa-a160ac7d309d",
   "metadata": {},
   "outputs": [
    {
     "name": "stdin",
     "output_type": "stream",
     "text": [
      "Enter the string Salman Ahmad is good PW\n"
     ]
    },
    {
     "data": {
      "text/plain": [
       "'sALMAN aHMAD IS GOOD pw'"
      ]
     },
     "execution_count": 21,
     "metadata": {},
     "output_type": "execute_result"
    }
   ],
   "source": [
    "#Question 28\n",
    "s27 = input(\"Enter the string\")\n",
    "s28=\"\"\n",
    "for i in s27:\n",
    "    if i.islower():\n",
    "        s28=s28+i.upper()\n",
    "    else :\n",
    "        s28=s28+i.lower()\n",
    "s28 "
   ]
  },
  {
   "cell_type": "code",
   "execution_count": 22,
   "id": "e6325640-1d42-47df-8458-8854ecdc9ce5",
   "metadata": {},
   "outputs": [
    {
     "name": "stdin",
     "output_type": "stream",
     "text": [
      "Enter the string salman is nice.\n"
     ]
    },
    {
     "data": {
      "text/plain": [
       "' is nice.'"
      ]
     },
     "execution_count": 22,
     "metadata": {},
     "output_type": "execute_result"
    }
   ],
   "source": [
    "#Question 29\n",
    "s29 = input (\"Enter the string\")\n",
    "s29.replace(\"salman\", \"\")"
   ]
  },
  {
   "cell_type": "code",
   "execution_count": 24,
   "id": "ed30cfca-6a5d-4e51-980f-6e47d75a14e5",
   "metadata": {},
   "outputs": [
    {
     "name": "stdin",
     "output_type": "stream",
     "text": [
      "Enter the Email salman@gmail.com\n"
     ]
    },
    {
     "name": "stdout",
     "output_type": "stream",
     "text": [
      "valid email address\n"
     ]
    }
   ],
   "source": [
    "#Question 30\n",
    "s30 = input (\"Enter the Email\")\n",
    "l7 = s30.split(\"@\")\n",
    "if len(l7) == 2 :\n",
    "    print(\"valid email address\")\n",
    "else :\n",
    "    print(\"Invalid email address\")"
   ]
  },
  {
   "cell_type": "code",
   "execution_count": 25,
   "id": "52d295bb-59e0-413b-836a-839c8d2c9dd9",
   "metadata": {},
   "outputs": [
    {
     "name": "stdin",
     "output_type": "stream",
     "text": [
      "Enter the Email salmanahmad89481@gmail.com\n"
     ]
    },
    {
     "data": {
      "text/plain": [
       "'salmanahmad89481'"
      ]
     },
     "execution_count": 25,
     "metadata": {},
     "output_type": "execute_result"
    }
   ],
   "source": [
    "#question 31\n",
    "s30 = input (\"Enter the Email\")\n",
    "l7 = s30.split(\"@\")\n",
    "l7[0]\n"
   ]
  },
  {
   "cell_type": "code",
   "execution_count": 26,
   "id": "3380441c-46f0-4733-a673-86c39f5be279",
   "metadata": {},
   "outputs": [
    {
     "name": "stdin",
     "output_type": "stream",
     "text": [
      "Enter the Email salmanahmad89481@gmail.com\n"
     ]
    },
    {
     "data": {
      "text/plain": [
       "'gmail.com'"
      ]
     },
     "execution_count": 26,
     "metadata": {},
     "output_type": "execute_result"
    }
   ],
   "source": [
    "#question 32\n",
    "s30 = input (\"Enter the Email\")\n",
    "l7 = s30.split(\"@\")\n",
    "l7[1]\n"
   ]
  },
  {
   "cell_type": "code",
   "execution_count": 27,
   "id": "2244fe66-6a55-4ffc-bb18-9a7e4a3d56d3",
   "metadata": {},
   "outputs": [
    {
     "name": "stdin",
     "output_type": "stream",
     "text": [
      "Enter the string salman   ahmad 89\n"
     ]
    },
    {
     "data": {
      "text/plain": [
       "'salman ahmad 89'"
      ]
     },
     "execution_count": 27,
     "metadata": {},
     "output_type": "execute_result"
    }
   ],
   "source": [
    "#Question 33\n",
    "s26 = input(\"Enter the string\")\n",
    "l8 = s26.split()\n",
    "\" \".join(l8)"
   ]
  },
  {
   "cell_type": "code",
   "execution_count": 31,
   "id": "7250bf54-a58b-40e2-a08f-36b32718b824",
   "metadata": {},
   "outputs": [
    {
     "name": "stdin",
     "output_type": "stream",
     "text": [
      "Enter a URL:  https://red-judge-ybyfk.pwskills.app/lab/tree/work/20th_August_Python%20basics%20practice%20test%20file.ipynb\n"
     ]
    },
    {
     "name": "stdout",
     "output_type": "stream",
     "text": [
      "https://red-judge-ybyfk.pwskills.app/lab/tree/work/20th_August_Python%20basics%20practice%20test%20file.ipynb is a valid URL.\n"
     ]
    }
   ],
   "source": [
    "# Question 34\n",
    "def is_valid_url(url):\n",
    "    try:\n",
    "        parts = url.split(\"://\")\n",
    "        if len(parts) == 2:\n",
    "            scheme, rest = parts\n",
    "            domain, *path = rest.split(\"/\")\n",
    "            return bool(scheme and domain)\n",
    "    except ValueError:\n",
    "        pass\n",
    "    return False\n",
    "url_input = input(\"Enter a URL: \")\n",
    "if is_valid_url(url_input):\n",
    "    print(f\"{url_input} is a valid URL.\")\n",
    "else:\n",
    "    print(f\"{url_input} is not a valid URL.\")\n"
   ]
  },
  {
   "cell_type": "code",
   "execution_count": 34,
   "id": "278e0fe9-2a91-4fd0-a594-25a0df018945",
   "metadata": {},
   "outputs": [
    {
     "name": "stdin",
     "output_type": "stream",
     "text": [
      "Enter a URL:  https://red-judge-ybyfk.pwskills.app/lab/tree/work/20th_August_Python%20basics%20practice%20test%20file.ipynb\n"
     ]
    },
    {
     "name": "stdout",
     "output_type": "stream",
     "text": [
      "https\n"
     ]
    }
   ],
   "source": [
    "#Question 35\n",
    "def is_valid_url(url):\n",
    "    try:\n",
    "        parts = url.split(\"://\")\n",
    "        if len(parts) == 2:\n",
    "            scheme, rest = parts\n",
    "            return scheme\n",
    "    except ValueError:\n",
    "        pass\n",
    "    return False\n",
    "url_input = input(\"Enter a URL: \")\n",
    "s=is_valid_url(url_input)\n",
    "print(s)"
   ]
  },
  {
   "cell_type": "code",
   "execution_count": 35,
   "id": "b2391496-c4a6-4ced-af83-7142540c3f85",
   "metadata": {},
   "outputs": [
    {
     "name": "stdin",
     "output_type": "stream",
     "text": [
      "Enter the string slaman asalman is a goood man.Pw helps a lot .Pw is good\n"
     ]
    },
    {
     "data": {
      "text/plain": [
       "{'s frequency': 5,\n",
       " 'l frequency': 4,\n",
       " 'a frequency': 8,\n",
       " 'm frequency': 3,\n",
       " 'n frequency': 3,\n",
       " '  frequency': 11,\n",
       " 'i frequency': 2,\n",
       " 'g frequency': 2,\n",
       " 'o frequency': 6,\n",
       " 'd frequency': 2,\n",
       " '. frequency': 2,\n",
       " 'P frequency': 2,\n",
       " 'w frequency': 2,\n",
       " 'h frequency': 1,\n",
       " 'e frequency': 1,\n",
       " 'p frequency': 1,\n",
       " 't frequency': 1}"
      ]
     },
     "execution_count": 35,
     "metadata": {},
     "output_type": "execute_result"
    }
   ],
   "source": [
    "#Question 36\n",
    "s26 = input(\"Enter the string\")\n",
    "d ={}\n",
    "for i in s26 :\n",
    "    d.update({i + \" frequency\" : s26.count(i)})\n",
    "d    "
   ]
  },
  {
   "cell_type": "code",
   "execution_count": 36,
   "id": "3137f8e2-33cb-4d1e-b180-94291f03eeb1",
   "metadata": {},
   "outputs": [
    {
     "name": "stdin",
     "output_type": "stream",
     "text": [
      "Enter the string salman ahmad. I am hero\n"
     ]
    },
    {
     "data": {
      "text/plain": [
       "'salman ahmad I am hero'"
      ]
     },
     "execution_count": 36,
     "metadata": {},
     "output_type": "execute_result"
    }
   ],
   "source": [
    "#question 37\n",
    "s27 = input(\"Enter the string\")\n",
    "s27.replace(\".\" , \"\")\n",
    "            \n"
   ]
  },
  {
   "cell_type": "code",
   "execution_count": 37,
   "id": "81f50980-9304-4814-af7c-77b43398e136",
   "metadata": {},
   "outputs": [
    {
     "name": "stdin",
     "output_type": "stream",
     "text": [
      "Enter the string 89484151\n"
     ]
    },
    {
     "name": "stdout",
     "output_type": "stream",
     "text": [
      "string  contains only digits.\n"
     ]
    }
   ],
   "source": [
    "#question 38\n",
    "s28 = input(\"Enter the string\")\n",
    "c=0\n",
    "for i in s28:\n",
    "    if  not i.isdigit():\n",
    "        print(\"string does not contains only digits.\")\n",
    "        break\n",
    "    else:\n",
    "        c=c+1\n",
    "if len(s28) == c :\n",
    "    print(\"string  contains only digits.\")\n"
   ]
  },
  {
   "cell_type": "code",
   "execution_count": 38,
   "id": "cd87b051-5f97-4f8e-8048-9e089a67d95d",
   "metadata": {},
   "outputs": [
    {
     "name": "stdin",
     "output_type": "stream",
     "text": [
      "Enter the string h1hiqhdidn\n"
     ]
    },
    {
     "name": "stdout",
     "output_type": "stream",
     "text": [
      "string does not contains only alphabets.\n"
     ]
    }
   ],
   "source": [
    "#question 39\n",
    "s28 = input(\"Enter the string\")\n",
    "c=0\n",
    "for i in s28:\n",
    "    if  not i.isalpha():\n",
    "        print(\"string does not contains only alphabets.\")\n",
    "        break\n",
    "    else:\n",
    "        c=c+1\n",
    "if len(s28) == c :\n",
    "    print(\"string  contains only alphabets.\")"
   ]
  },
  {
   "cell_type": "code",
   "execution_count": 39,
   "id": "1c954fe3-6e4b-4440-bee9-2c61f2ba5f96",
   "metadata": {},
   "outputs": [
    {
     "name": "stdin",
     "output_type": "stream",
     "text": [
      "Enter the string salman ahmad Pw godd\n"
     ]
    },
    {
     "data": {
      "text/plain": [
       "['s',\n",
       " 'a',\n",
       " 'l',\n",
       " 'm',\n",
       " 'a',\n",
       " 'n',\n",
       " ' ',\n",
       " 'a',\n",
       " 'h',\n",
       " 'm',\n",
       " 'a',\n",
       " 'd',\n",
       " ' ',\n",
       " 'P',\n",
       " 'w',\n",
       " ' ',\n",
       " 'g',\n",
       " 'o',\n",
       " 'd',\n",
       " 'd']"
      ]
     },
     "execution_count": 39,
     "metadata": {},
     "output_type": "execute_result"
    }
   ],
   "source": [
    "#question 40\n",
    "s29 = input(\"Enter the string\")\n",
    "l=[]\n",
    "for i in s29 :\n",
    "    l.append(i)\n",
    "l    "
   ]
  },
  {
   "cell_type": "code",
   "execution_count": 40,
   "id": "b5052248-4780-4bd0-8dbf-5cbf8b7c2e2b",
   "metadata": {},
   "outputs": [
    {
     "name": "stdin",
     "output_type": "stream",
     "text": [
      "Enter the string1 silent\n",
      "Enter the string2 listen\n"
     ]
    },
    {
     "name": "stdout",
     "output_type": "stream",
     "text": [
      "String are anagram\n"
     ]
    }
   ],
   "source": [
    "#question 41\n",
    "s30 = input(\"Enter the string1\")\n",
    "s31 = input(\"Enter the string2\")\n",
    "if sorted(s30)== sorted(s31) :\n",
    "    print(\"String are anagram\")\n",
    "else :\n",
    "    print(\"String are not anagram\")"
   ]
  },
  {
   "cell_type": "code",
   "execution_count": 41,
   "id": "9d0b04cf-3b83-48fb-892c-6b673d5c8d68",
   "metadata": {},
   "outputs": [
    {
     "name": "stdin",
     "output_type": "stream",
     "text": [
      "Enter the no.of shift 2\n"
     ]
    },
    {
     "data": {
      "text/plain": [
       "'ucnocpcjocf'"
      ]
     },
     "execution_count": 41,
     "metadata": {},
     "output_type": "execute_result"
    }
   ],
   "source": [
    "#Question 42\n",
    "def Caesar_cipher(str1,shift):\n",
    "    result =\"\"\n",
    "    for i in str1:\n",
    "        if i.isupper():\n",
    "             result += chr((ord(i)- ord('A') + shift ) % 26 + ord('A'))\n",
    "        else:\n",
    "            result+=chr(((ord(i)-ord('a') + shift )%26)+ord('a'))\n",
    "    return result\n",
    "str1 = \"salmanahmad\"\n",
    "shift =int(input(\"Enter the no.of shift\"))\n",
    "Caesar_cipher(str1,shift)"
   ]
  },
  {
   "cell_type": "code",
   "execution_count": 42,
   "id": "44d35e3d-9097-46fe-a556-01608cce2105",
   "metadata": {},
   "outputs": [
    {
     "name": "stdin",
     "output_type": "stream",
     "text": [
      "Enter the no.of shift 2\n"
     ]
    },
    {
     "data": {
      "text/plain": [
       "'salmanahmad'"
      ]
     },
     "execution_count": 42,
     "metadata": {},
     "output_type": "execute_result"
    }
   ],
   "source": [
    "#question 43\n",
    "def Caesar_cipher(str1,shift):\n",
    "    result =\"\"\n",
    "    for i in str1:\n",
    "        if i.isupper():\n",
    "             result += chr((ord(i)- ord('A') - shift ) % 26 + ord('A'))\n",
    "        else:\n",
    "            result+=chr(((ord(i)-ord('a') - shift )%26)+ord('a'))\n",
    "    return result\n",
    "str1 = \"ucnocpcjocf\"\n",
    "shift =int(input(\"Enter the no.of shift\"))\n",
    "Caesar_cipher(str1,shift)"
   ]
  },
  {
   "cell_type": "code",
   "execution_count": 43,
   "id": "e330f119-6153-4db6-983e-d3d8d35e4a17",
   "metadata": {},
   "outputs": [
    {
     "name": "stdin",
     "output_type": "stream",
     "text": [
      "Enter the string salman is good.salman is awesome.\n"
     ]
    },
    {
     "data": {
      "text/plain": [
       "'salman'"
      ]
     },
     "execution_count": 43,
     "metadata": {},
     "output_type": "execute_result"
    }
   ],
   "source": [
    "#question 44\n",
    "s32 = input(\"Enter the string\")\n",
    "d={}\n",
    "l3 = s32.split()\n",
    "for i in l3:\n",
    "    d.update({ i :l3.count(i)})\n",
    "sorted(d.values())\n",
    "most_frequent_word = list(d.items())\n",
    "word , frequency = most_frequent_word[0]\n",
    "word\n"
   ]
  },
  {
   "cell_type": "code",
   "execution_count": 1,
   "id": "fbc2cb69-0398-46ca-83d1-15d42e6f99fc",
   "metadata": {},
   "outputs": [
    {
     "name": "stdin",
     "output_type": "stream",
     "text": [
      "Enter the string salman ahmad\n"
     ]
    },
    {
     "data": {
      "text/plain": [
       "['salman', 'ahmad']"
      ]
     },
     "execution_count": 1,
     "metadata": {},
     "output_type": "execute_result"
    }
   ],
   "source": [
    "#question 45\n",
    "s32 = input(\"Enter the string\")\n",
    "d={}\n",
    "l3 = s32.split()\n",
    "l4 =[]\n",
    "for i in l3:\n",
    "    d.update({ i :l3.count(i)})\n",
    "sorted(d.values())\n",
    "for i in d :\n",
    "     if d[i] ==1:\n",
    "            l4.append(i)\n",
    "l4            "
   ]
  },
  {
   "cell_type": "code",
   "execution_count": 44,
   "id": "161f8c3b-8a03-4ba6-8613-7a7d7a9e9db7",
   "metadata": {},
   "outputs": [
    {
     "name": "stdout",
     "output_type": "stream",
     "text": [
      "Total no. of syllables : 5\n"
     ]
    }
   ],
   "source": [
    "#Question 46\n",
    "def syllable_count(str):\n",
    "    count = 0\n",
    "    \n",
    "    syllables = set(\"AEIOUaeiou\")\n",
    "    \n",
    "    for letter in str:\n",
    "        if letter in syllables:\n",
    "            count = count + 1\n",
    "      \n",
    "    print(\"Total no. of syllables :\", count)\n",
    "\n",
    "str = 'beautiful'\n",
    "\n",
    "syllable_count(str)"
   ]
  },
  {
   "cell_type": "code",
   "execution_count": 45,
   "id": "44937ba7-35a3-4b89-a4ce-302ae452c621",
   "metadata": {},
   "outputs": [
    {
     "name": "stdout",
     "output_type": "stream",
     "text": [
      "contains special character\n"
     ]
    }
   ],
   "source": [
    "#Question 47\n",
    "str = 'beautiful@@'\n",
    "if str.isalnum():\n",
    "    print(\"not contains special character\")\n",
    "else:\n",
    "    print(\"contains special character\")"
   ]
  },
  {
   "cell_type": "code",
   "execution_count": 47,
   "id": "9c883836-f3bf-4986-8907-6e2817dd8b4d",
   "metadata": {},
   "outputs": [
    {
     "name": "stdin",
     "output_type": "stream",
     "text": [
      "Enter the string salman ahmad 89\n",
      "Enter the position of word to remove  2\n"
     ]
    },
    {
     "data": {
      "text/plain": [
       "'salman ahmad'"
      ]
     },
     "execution_count": 47,
     "metadata": {},
     "output_type": "execute_result"
    }
   ],
   "source": [
    "#Question 48\n",
    "def wtr(l,str2):\n",
    "    l.remove(l[str2])\n",
    "    return \" \".join(l)\n",
    "    \n",
    "str1 = input(\"Enter the string\")\n",
    "l1= str1.split()\n",
    "str2 = int(input(\"Enter the position of word to remove \"))\n",
    "wtr(l1,str2)       "
   ]
  },
  {
   "cell_type": "code",
   "execution_count": 48,
   "id": "2e777535-3a61-45c5-a383-052b9006d4f3",
   "metadata": {},
   "outputs": [
    {
     "name": "stdin",
     "output_type": "stream",
     "text": [
      "Enter the string salman ahmad \n",
      "Enter the position of word to insert  1\n",
      "Enter a word 89\n"
     ]
    },
    {
     "data": {
      "text/plain": [
       "'salman 89 ahmad'"
      ]
     },
     "execution_count": 48,
     "metadata": {},
     "output_type": "execute_result"
    }
   ],
   "source": [
    "#Question 49\n",
    "str1 = input(\"Enter the string\")\n",
    "l = str1.split()\n",
    "str2 = int(input(\"Enter the position of word to insert \"))\n",
    "str3 = input(\"Enter a word\")\n",
    "l.insert(str2 , str3)\n",
    "\" \".join(l)\n"
   ]
  },
  {
   "cell_type": "code",
   "execution_count": 49,
   "id": "7f56307b-4c71-4d2c-967d-b6955afa2b1f",
   "metadata": {},
   "outputs": [
    {
     "name": "stdout",
     "output_type": "stream",
     "text": [
      "['Jodha', 'De', '30']\n",
      "['kohli', 'Smith', '25']\n",
      "['Babar', 'Jonny', '35']\n"
     ]
    }
   ],
   "source": [
    "#Question 50\n",
    "csv_string = \"\"\"Jodha,De,30\n",
    "kohli,Smith,25\n",
    "Babar,Jonny,35\"\"\"\n",
    "csv_list = [line.split(',') for line in csv_string.split('\\n')]\n",
    "for row in csv_list:\n",
    "    print(row)"
   ]
  },
  {
   "cell_type": "code",
   "execution_count": null,
   "id": "709742f1-076d-42e1-a86f-d4ca7ceb4d1c",
   "metadata": {},
   "outputs": [],
   "source": [
    "#List based practice problem"
   ]
  },
  {
   "cell_type": "code",
   "execution_count": 50,
   "id": "3c5c6a8b-146b-4bbf-95e0-b8402aba48ce",
   "metadata": {},
   "outputs": [
    {
     "data": {
      "text/plain": [
       "[1, 2, 3, 4, 5, 6, 7, 8, 9, 10]"
      ]
     },
     "execution_count": 50,
     "metadata": {},
     "output_type": "execute_result"
    }
   ],
   "source": [
    "#Question 1\n",
    "l=[]\n",
    "for i in range(1,11):\n",
    "    l.append(i)\n",
    "l\n"
   ]
  },
  {
   "cell_type": "code",
   "execution_count": 51,
   "id": "c31a8714-39ea-4427-8dde-6ac6f4bff038",
   "metadata": {},
   "outputs": [
    {
     "name": "stdout",
     "output_type": "stream",
     "text": [
      "4\n"
     ]
    }
   ],
   "source": [
    "#Question 2\n",
    "l =[1,2,3,4]\n",
    "c=0\n",
    "while l !=[]:\n",
    "    c=c+1\n",
    "    l.pop()\n",
    "print(c)"
   ]
  },
  {
   "cell_type": "code",
   "execution_count": 52,
   "id": "dd691755-60ba-4866-ac46-26dc868b2f1e",
   "metadata": {},
   "outputs": [
    {
     "data": {
      "text/plain": [
       "[1, 2, 3, 4, 5]"
      ]
     },
     "execution_count": 52,
     "metadata": {},
     "output_type": "execute_result"
    }
   ],
   "source": [
    "#Question 3\n",
    "l =[1,2,3,4]\n",
    "l.append(5)\n",
    "l"
   ]
  },
  {
   "cell_type": "code",
   "execution_count": 53,
   "id": "473bc6a8-e462-4eec-b264-66cfa8f49ede",
   "metadata": {},
   "outputs": [
    {
     "data": {
      "text/plain": [
       "[1, 2, 3, 0, 4, 5]"
      ]
     },
     "execution_count": 53,
     "metadata": {},
     "output_type": "execute_result"
    }
   ],
   "source": [
    "#Question 4\n",
    "l = [1,2,3,4,5]\n",
    "l.insert(3 ,0)\n",
    "l"
   ]
  },
  {
   "cell_type": "code",
   "execution_count": 54,
   "id": "4ffa73a2-ab07-402e-91e8-d310586d4148",
   "metadata": {},
   "outputs": [
    {
     "data": {
      "text/plain": [
       "[1, 2, 3, 'a']"
      ]
     },
     "execution_count": 54,
     "metadata": {},
     "output_type": "execute_result"
    }
   ],
   "source": [
    "#Question 5\n",
    "l = [1,2,3,\"a\",\"b\"]\n",
    "l.remove(\"b\")\n",
    "l"
   ]
  },
  {
   "cell_type": "code",
   "execution_count": 55,
   "id": "f3102b6b-d52e-4681-b665-d78a21d2d2f8",
   "metadata": {},
   "outputs": [
    {
     "data": {
      "text/plain": [
       "[2, 3, 'a', 'b']"
      ]
     },
     "execution_count": 55,
     "metadata": {},
     "output_type": "execute_result"
    }
   ],
   "source": [
    "#Question 6\n",
    "l = [1,2,3,\"a\",\"b\"]\n",
    "l.remove(l[0])\n",
    "l"
   ]
  },
  {
   "cell_type": "code",
   "execution_count": 56,
   "id": "57574d99-0fc1-47ef-9c61-dbfb97b740bc",
   "metadata": {},
   "outputs": [
    {
     "name": "stdout",
     "output_type": "stream",
     "text": [
      "Element Exist\n"
     ]
    }
   ],
   "source": [
    "#Question 7\n",
    "l =[\"PW\",10,3,4,\"a\"]\n",
    "for i in range(len(l)):\n",
    "    if \"PW\" ==l[i]:\n",
    "        print(\"Element Exist\")"
   ]
  },
  {
   "cell_type": "code",
   "execution_count": 57,
   "id": "933fc204-d594-4d40-a485-01c7ee082fc2",
   "metadata": {},
   "outputs": [
    {
     "data": {
      "text/plain": [
       "2"
      ]
     },
     "execution_count": 57,
     "metadata": {},
     "output_type": "execute_result"
    }
   ],
   "source": [
    "#Question 8\n",
    "l=[1,23,3,4,1,3]\n",
    "l.index(3)\n"
   ]
  },
  {
   "cell_type": "code",
   "execution_count": 58,
   "id": "396ee129-0f0b-4aa6-b614-bbbef803bc61",
   "metadata": {},
   "outputs": [
    {
     "data": {
      "text/plain": [
       "[(2, 1), ('l', 2), ('k', 1), ('p', 1)]"
      ]
     },
     "execution_count": 58,
     "metadata": {},
     "output_type": "execute_result"
    }
   ],
   "source": [
    "#question 9\n",
    "l1 = [2,\"l\",\"k\",\"l\",\"p\"]\n",
    "d12={}\n",
    "for i in l1:\n",
    "    d12.update({i: l1.count(i)})\n",
    "list(d12.items())"
   ]
  },
  {
   "cell_type": "code",
   "execution_count": 59,
   "id": "9d869623-3865-43a2-b7a7-13b2885b0713",
   "metadata": {},
   "outputs": [
    {
     "data": {
      "text/plain": [
       "['p', 'l', 'k', 'l', 2]"
      ]
     },
     "execution_count": 59,
     "metadata": {},
     "output_type": "execute_result"
    }
   ],
   "source": [
    "#question 10\n",
    "l1 = [2,\"l\",\"k\",\"l\",\"p\"]\n",
    "l1.reverse()\n",
    "l1"
   ]
  },
  {
   "cell_type": "code",
   "execution_count": 60,
   "id": "8679b967-72bc-4a0a-8fc4-4a03c6fb535b",
   "metadata": {},
   "outputs": [
    {
     "data": {
      "text/plain": [
       "['k', 'l', 'l', 'p']"
      ]
     },
     "execution_count": 60,
     "metadata": {},
     "output_type": "execute_result"
    }
   ],
   "source": [
    "#question 11\n",
    "l1 = [\"l\",\"k\",\"l\",\"p\"]\n",
    "l1=sorted(l1 ,reverse =False )\n",
    "l1"
   ]
  },
  {
   "cell_type": "code",
   "execution_count": 61,
   "id": "f518fa2c-4240-4eca-8582-4a12dcd60041",
   "metadata": {},
   "outputs": [
    {
     "data": {
      "text/plain": [
       "['p', 'l', 'l', 'k']"
      ]
     },
     "execution_count": 61,
     "metadata": {},
     "output_type": "execute_result"
    }
   ],
   "source": [
    "#question 12\n",
    "l1 = [\"l\",\"k\",\"l\",\"p\"]\n",
    "l1=sorted(l1 ,reverse =True )\n",
    "l1"
   ]
  },
  {
   "cell_type": "code",
   "execution_count": 62,
   "id": "4cf8852b-dd52-484b-ac0c-01436e9246e7",
   "metadata": {},
   "outputs": [
    {
     "data": {
      "text/plain": [
       "[2, 4, 6, 8, 10, 12, 14, 16, 18, 20]"
      ]
     },
     "execution_count": 62,
     "metadata": {},
     "output_type": "execute_result"
    }
   ],
   "source": [
    "#Question 13\n",
    "l=[]\n",
    "for i in range(1 ,21):\n",
    "    if i%2 ==0 :\n",
    "        l.append(i)\n",
    "l    "
   ]
  },
  {
   "cell_type": "code",
   "execution_count": 63,
   "id": "dcdf170d-821e-45cc-9c32-bcdae17759e3",
   "metadata": {},
   "outputs": [
    {
     "data": {
      "text/plain": [
       "[1, 3, 5, 7, 9, 11, 13, 15, 17, 19]"
      ]
     },
     "execution_count": 63,
     "metadata": {},
     "output_type": "execute_result"
    }
   ],
   "source": [
    "#Question 14\n",
    "l=[]\n",
    "for i in range(1 ,21):\n",
    "    if i%2 !=0 :\n",
    "        l.append(i)\n",
    "l    "
   ]
  },
  {
   "cell_type": "code",
   "execution_count": 64,
   "id": "f4c405d0-7745-438b-b912-126b8a4af674",
   "metadata": {},
   "outputs": [
    {
     "data": {
      "text/plain": [
       "115"
      ]
     },
     "execution_count": 64,
     "metadata": {},
     "output_type": "execute_result"
    }
   ],
   "source": [
    "#Question 15\n",
    "l = [2,5,7,89,0,4,8]\n",
    "c=0\n",
    "for i in l:\n",
    "    c=c+i\n",
    "c"
   ]
  },
  {
   "cell_type": "code",
   "execution_count": 65,
   "id": "e1a89a0c-cacb-46dc-a814-3a9a3248829d",
   "metadata": {},
   "outputs": [
    {
     "data": {
      "text/plain": [
       "89"
      ]
     },
     "execution_count": 65,
     "metadata": {},
     "output_type": "execute_result"
    }
   ],
   "source": [
    "#Question 16\n",
    "l = [2,5,7,89,0,4,8]\n",
    "l=sorted(l)\n",
    "l[-1]"
   ]
  },
  {
   "cell_type": "code",
   "execution_count": 66,
   "id": "0ce8a7c6-a3da-4bec-b689-c0d0c4c8cf2e",
   "metadata": {},
   "outputs": [
    {
     "data": {
      "text/plain": [
       "0"
      ]
     },
     "execution_count": 66,
     "metadata": {},
     "output_type": "execute_result"
    }
   ],
   "source": [
    "#Question 17\n",
    "l = [2,5,7,89,0,4,8]\n",
    "l=sorted(l)\n",
    "l[0]"
   ]
  },
  {
   "cell_type": "code",
   "execution_count": 67,
   "id": "7f0f7555-1183-4d15-88fe-130c6a3ad780",
   "metadata": {},
   "outputs": [
    {
     "data": {
      "text/plain": [
       "[1, 4, 9, 16, 25, 36, 49, 64, 81]"
      ]
     },
     "execution_count": 67,
     "metadata": {},
     "output_type": "execute_result"
    }
   ],
   "source": [
    "#Question 18\n",
    "l=[]\n",
    "for i in range(1,10):\n",
    "    l.append(i**2)\n",
    "l"
   ]
  },
  {
   "cell_type": "code",
   "execution_count": 68,
   "id": "4aa66920-c71d-4c3d-9e66-05428307352c",
   "metadata": {},
   "outputs": [
    {
     "name": "stdout",
     "output_type": "stream",
     "text": [
      "[51, 79, 76, 64, 65, 91, 100, 67, 83, 25]\n"
     ]
    }
   ],
   "source": [
    "#question 19\n",
    "import random\n",
    " \n",
    "rand_list=[]\n",
    "n=10\n",
    "for i in range(n):\n",
    "    rand_list.append(random.randint(1,100))\n",
    "print(rand_list)"
   ]
  },
  {
   "cell_type": "code",
   "execution_count": 69,
   "id": "fb118b56-9d72-4322-909f-18337909f434",
   "metadata": {},
   "outputs": [
    {
     "data": {
      "text/plain": [
       "[2, 7, 89, 0, 8, 5, 4]"
      ]
     },
     "execution_count": 69,
     "metadata": {},
     "output_type": "execute_result"
    }
   ],
   "source": [
    "#question 20\n",
    "l = [2,5,7,89,0,4,8,5,4,4]\n",
    "for i in l:\n",
    "    if l.count(i)>1:\n",
    "        l.remove(i)\n",
    "l      "
   ]
  },
  {
   "cell_type": "code",
   "execution_count": 70,
   "id": "a0f8d267-77ec-42f8-ae30-9436083a719a",
   "metadata": {},
   "outputs": [
    {
     "data": {
      "text/plain": [
       "[5, 7, 89]"
      ]
     },
     "execution_count": 70,
     "metadata": {},
     "output_type": "execute_result"
    }
   ],
   "source": [
    "#Question 21\n",
    "l1 =[2,5,7,89,0,4,8,5,4,4]\n",
    "l2 =[3,5,6,7,98,89]\n",
    "common_Element = []\n",
    "for i in l1:\n",
    "    for j in l2 :\n",
    "        if i==j:\n",
    "            l2.remove(j)\n",
    "            common_Element.append(i)\n",
    "    \n",
    "common_Element"
   ]
  },
  {
   "cell_type": "code",
   "execution_count": 71,
   "id": "3414c457-b4d4-4ec7-b14b-d5ce944c0986",
   "metadata": {},
   "outputs": [
    {
     "data": {
      "text/plain": [
       "[3, 6, 98]"
      ]
     },
     "execution_count": 71,
     "metadata": {},
     "output_type": "execute_result"
    }
   ],
   "source": [
    "#Question 22\n",
    "l1 =[2,5,7,89,0,4,8,5,4,4]\n",
    "l2 =[3,5,6,7,98,89]\n",
    "for i in l1:\n",
    "    for j in l2 :\n",
    "        if i==j:\n",
    "            l2.remove(j)\n",
    "    \n",
    "l2"
   ]
  },
  {
   "cell_type": "code",
   "execution_count": 72,
   "id": "4732c1d0-e821-4ee1-809d-4e65fab98ade",
   "metadata": {},
   "outputs": [
    {
     "data": {
      "text/plain": [
       "[2, 5, 7, 89, 0, 4, 8, 5, 4, 4, 3, 5, 6, 7, 98, 89]"
      ]
     },
     "execution_count": 72,
     "metadata": {},
     "output_type": "execute_result"
    }
   ],
   "source": [
    "#Question 23\n",
    "l1 =[2,5,7,89,0,4,8,5,4,4]\n",
    "l2 =[3,5,6,7,98,89]\n",
    "l1.extend(l2)\n",
    "l1"
   ]
  },
  {
   "cell_type": "code",
   "execution_count": 73,
   "id": "e8bf3721-d8cd-497d-883c-a7436353eab5",
   "metadata": {},
   "outputs": [
    {
     "data": {
      "text/plain": [
       "[4, 10, 14, 178, 0, 8, 16, 10, 8, 8]"
      ]
     },
     "execution_count": 73,
     "metadata": {},
     "output_type": "execute_result"
    }
   ],
   "source": [
    "#Question 24\n",
    "l1 =[2,5,7,89,0,4,8,5,4,4]\n",
    "for i in range (len(l1)):\n",
    "    l1[i]=l1[i]*2\n",
    "l1    "
   ]
  },
  {
   "cell_type": "code",
   "execution_count": 74,
   "id": "96f350f9-61c5-4ca5-8759-5d4dace6e6d0",
   "metadata": {},
   "outputs": [
    {
     "data": {
      "text/plain": [
       "[2, 0, 4, 8, 4, 4]"
      ]
     },
     "execution_count": 74,
     "metadata": {},
     "output_type": "execute_result"
    }
   ],
   "source": [
    "#Question 25\n",
    "l1 =[2,5,7,89,0,4,8,5,4,4]\n",
    "[i for i in l1 if i%2==0]"
   ]
  },
  {
   "cell_type": "code",
   "execution_count": 75,
   "id": "1e54c34d-2130-47dc-a24c-dbdd9c3d0e2a",
   "metadata": {},
   "outputs": [
    {
     "data": {
      "text/plain": [
       "[2, 5, 7, 89]"
      ]
     },
     "execution_count": 75,
     "metadata": {},
     "output_type": "execute_result"
    }
   ],
   "source": [
    "#Question 26\n",
    "l1 =[\"2\",\"5\",\"7\",\"89\"]\n",
    "[int(i) for i in l1 ]"
   ]
  },
  {
   "cell_type": "code",
   "execution_count": 92,
   "id": "a80993f5-9d6d-4aa0-8be6-67360913b45a",
   "metadata": {},
   "outputs": [
    {
     "data": {
      "text/plain": [
       "['4', '5', '6', '7']"
      ]
     },
     "execution_count": 92,
     "metadata": {},
     "output_type": "execute_result"
    }
   ],
   "source": [
    "#Question 27\n",
    "l1 =[4,5,6,7]\n",
    "str_list = [str(num) for num in l1]\n",
    "str_list"
   ]
  },
  {
   "cell_type": "code",
   "execution_count": 77,
   "id": "2d13beab-78a5-469c-b96a-79c6a599135b",
   "metadata": {},
   "outputs": [
    {
     "data": {
      "text/plain": [
       "['2', '5', '7', '8', '9', 4, 5, 6, 7, 2, 5, 7, 89, 0, 4, 8, 5, 4, 4]"
      ]
     },
     "execution_count": 77,
     "metadata": {},
     "output_type": "execute_result"
    }
   ],
   "source": [
    "#Question 28\n",
    "l1= [\"2\",\"5\",\"7\",\"89\",[4,5,6,7],[2,5,7,89,0,4,8,5,4,4]]\n",
    "flatten_list =[x for sublist in l1 for x in sublist]\n",
    "flatten_list"
   ]
  },
  {
   "cell_type": "code",
   "execution_count": 78,
   "id": "34bf7fa4-afdd-433d-ac3f-056007f9db94",
   "metadata": {},
   "outputs": [
    {
     "data": {
      "text/plain": [
       "[0, 1, 1, 2, 3, 5, 8, 13, 21, 34]"
      ]
     },
     "execution_count": 78,
     "metadata": {},
     "output_type": "execute_result"
    }
   ],
   "source": [
    "#Question 29\n",
    "l1=[0,1]\n",
    "for i in range(2,10):\n",
    "    l1.append(l1[i-2]+l1[i-1])\n",
    "l1  \n"
   ]
  },
  {
   "cell_type": "code",
   "execution_count": null,
   "id": "f5304bbd-3c4f-4759-94a6-42edc14dbfda",
   "metadata": {},
   "outputs": [],
   "source": [
    "#question 30\n",
    "l1 =[4,5,1,2,7]\n",
    "l2 = sorted(l1)\n",
    "if l1==l2:\n",
    "    print(\"string is sorted \")\n",
    "else:\n",
    "    print(\"string is unsorted\" )"
   ]
  },
  {
   "cell_type": "code",
   "execution_count": 93,
   "id": "d2fc31b9-4a78-4e49-b2dd-7494dcc6e144",
   "metadata": {},
   "outputs": [
    {
     "name": "stdin",
     "output_type": "stream",
     "text": [
      "enter the no. of shift 2\n"
     ]
    },
    {
     "name": "stdout",
     "output_type": "stream",
     "text": [
      "[5, 78, 9, 8, 6, 1, 4]\n"
     ]
    }
   ],
   "source": [
    "#Question 31\n",
    "def left_shift (l1,n):\n",
    "    output_list=[]\n",
    "    for i in range(n, len(l1)):\n",
    "        output_list.append(l1[i])\n",
    "    for i in range(0,n):\n",
    "        output_list.append(l1[i])\n",
    "    return output_list    \n",
    "n= int(input(\"enter the no. of shift\"))\n",
    "l1=[1,4,5,78,9,8,6]\n",
    "l2=left_shift(l1,n)\n",
    "print(l2)"
   ]
  },
  {
   "cell_type": "code",
   "execution_count": 94,
   "id": "cdf4c34c-0d67-4eb9-bcaa-aacac56abf9c",
   "metadata": {},
   "outputs": [
    {
     "name": "stdin",
     "output_type": "stream",
     "text": [
      "enter the no. of shift 2\n"
     ]
    },
    {
     "name": "stdout",
     "output_type": "stream",
     "text": [
      "[8, 6, 1, 4, 5, 78, 9]\n"
     ]
    }
   ],
   "source": [
    "#Question 32\n",
    "def right_shift (l1,n):\n",
    "    output_list=[]\n",
    "    for i in range(len(l1)-n, len(l1)):\n",
    "        output_list.append(l1[i])\n",
    "    for i in range(0,len(l1)-n):\n",
    "        output_list.append(l1[i])\n",
    "    return output_list    \n",
    "n= int(input(\"enter the no. of shift\"))\n",
    "l1=[1,4,5,78,9,8,6]\n",
    "l2=right_shift(l1,n)\n",
    "print(l2)"
   ]
  },
  {
   "cell_type": "code",
   "execution_count": 95,
   "id": "b684656e-4b0d-43d7-a9ae-6e2fbe18376e",
   "metadata": {},
   "outputs": [
    {
     "data": {
      "text/plain": [
       "[2, 3, 5, 7, 11, 13, 17, 19, 23, 29, 31, 37, 41, 43, 47]"
      ]
     },
     "execution_count": 95,
     "metadata": {},
     "output_type": "execute_result"
    }
   ],
   "source": [
    "#Question 33\n",
    "l=[2]\n",
    "for i in range(3,51):\n",
    "    for j in range(2,int(i)):\n",
    "        if i%j==0 :\n",
    "            break\n",
    "    if j==i-1:\n",
    "        l.append(i)\n",
    "l           "
   ]
  },
  {
   "cell_type": "code",
   "execution_count": 96,
   "id": "6b4dbd24-5d0f-4023-b490-9245afc89d4a",
   "metadata": {},
   "outputs": [
    {
     "name": "stdin",
     "output_type": "stream",
     "text": [
      "Enter the size of chunks 3\n"
     ]
    },
    {
     "data": {
      "text/plain": [
       "[[2, 3, 5], [7, 11, 13], [17, 19, 23], [29, 31, 37], [41, 43, 47]]"
      ]
     },
     "execution_count": 96,
     "metadata": {},
     "output_type": "execute_result"
    }
   ],
   "source": [
    "#Question 34\n",
    "def chunks(l ,n):\n",
    "    return [l[i : i+n] for i in range(0,len(l),n)]\n",
    "\n",
    "l = [2, 3, 5, 7, 11, 13, 17, 19, 23, 29, 31, 37, 41, 43, 47]\n",
    "n = int(input(\"Enter the size of chunks\"))\n",
    "chunks(l,n)"
   ]
  },
  {
   "cell_type": "code",
   "execution_count": 97,
   "id": "6c0f812e-e838-4b9f-b12e-49cf8bfa5601",
   "metadata": {},
   "outputs": [
    {
     "data": {
      "text/plain": [
       "47"
      ]
     },
     "execution_count": 97,
     "metadata": {},
     "output_type": "execute_result"
    }
   ],
   "source": [
    "#Question 35\n",
    "l = [2, 3, 5, 7, 11, 13, 17, 19, 23, 291, 31, 37, 41, 43, 47]\n",
    "l=sorted(l)\n",
    "l[-2]"
   ]
  },
  {
   "cell_type": "code",
   "execution_count": 98,
   "id": "a2cdb9b4-8d12-4e9c-a824-87d7f59bf017",
   "metadata": {},
   "outputs": [
    {
     "data": {
      "text/plain": [
       "[4, 9, 25, 49, 121, 169, 289, 361, 529, 84681, 961, 1369, 1681, 1849, 2209]"
      ]
     },
     "execution_count": 98,
     "metadata": {},
     "output_type": "execute_result"
    }
   ],
   "source": [
    "3#Question 36\n",
    "l = [2, 3, 5, 7, 11, 13, 17, 19, 23, 291, 31, 37, 41, 43, 47]\n",
    "[i**2 for i in l]"
   ]
  },
  {
   "cell_type": "code",
   "execution_count": 99,
   "id": "97847b46-3326-4a0a-b0e0-0f7b2e509cfa",
   "metadata": {},
   "outputs": [
    {
     "data": {
      "text/plain": [
       "{2: 0, 3: 1, 5: 2, 7: 3, 11: 4, 13: 5, 17: 6, 47: 7}"
      ]
     },
     "execution_count": 99,
     "metadata": {},
     "output_type": "execute_result"
    }
   ],
   "source": [
    "#Question 37\n",
    "l = [2, 3, 5, 7, 11, 13, 17, 47]\n",
    "d ={}\n",
    "for i in range(len(l)):\n",
    "    d[l[i]]=i\n",
    "d    \n",
    "    "
   ]
  },
  {
   "cell_type": "code",
   "execution_count": 100,
   "id": "e6fe86e4-9daf-449a-bd29-94989b92a126",
   "metadata": {},
   "outputs": [
    {
     "name": "stdout",
     "output_type": "stream",
     "text": [
      "Original List: [1, 2, 3, 4, 5]\n",
      "Shuffled List: [2, 5, 4, 3, 1]\n"
     ]
    }
   ],
   "source": [
    "#Question 38\n",
    "import random\n",
    "original_list = [1, 2, 3, 4, 5]\n",
    "shuffled_list = original_list.copy()\n",
    "random.shuffle(shuffled_list)\n",
    "print(\"Original List:\", original_list)\n",
    "print(\"Shuffled List:\", shuffled_list)"
   ]
  },
  {
   "cell_type": "code",
   "execution_count": 101,
   "id": "e7d50b16-9778-4232-840a-4f4bebfa20f2",
   "metadata": {
    "tags": []
   },
   "outputs": [
    {
     "data": {
      "text/plain": [
       "[1, 2, 6, 24, 120, 720, 5040, 40320, 362880, 3628800]"
      ]
     },
     "execution_count": 101,
     "metadata": {},
     "output_type": "execute_result"
    }
   ],
   "source": [
    "#Question 39\n",
    "l= []\n",
    "for i in range(1,11):\n",
    "    k=1\n",
    "    for j in range(1,i+1):\n",
    "        k=k*j\n",
    "    l.append(k)    \n",
    "l"
   ]
  },
  {
   "cell_type": "code",
   "execution_count": 102,
   "id": "e5ccb92c-23fa-4975-82a5-6fec5d0c43f6",
   "metadata": {},
   "outputs": [
    {
     "name": "stdout",
     "output_type": "stream",
     "text": [
      "Contains common element\n"
     ]
    }
   ],
   "source": [
    "#Question 40\n",
    "l1= [2, 3, 5, 7, 11, 13, 17, 47]\n",
    "l2=[9,5,3,11,89]\n",
    "l3=[True for i in l1 for j in l2 if i==j]\n",
    "if l3!= []:\n",
    "    print(\"Contains common element\")"
   ]
  },
  {
   "cell_type": "code",
   "execution_count": 103,
   "id": "f5a2534c-01f4-4d1c-887b-58dfeded5340",
   "metadata": {},
   "outputs": [
    {
     "data": {
      "text/plain": [
       "[]"
      ]
     },
     "execution_count": 103,
     "metadata": {},
     "output_type": "execute_result"
    }
   ],
   "source": [
    "#Question 41\n",
    "l1= [2, 3, 5, 7, 11, 13, 17, 47]\n",
    "l1.clear()\n",
    "l1"
   ]
  },
  {
   "cell_type": "code",
   "execution_count": 104,
   "id": "1b9156ed-6397-4826-98d7-aec240de43ba",
   "metadata": {},
   "outputs": [
    {
     "data": {
      "text/plain": [
       "[2, 0, 5, 7, 11, 0, 17, 0]"
      ]
     },
     "execution_count": 104,
     "metadata": {},
     "output_type": "execute_result"
    }
   ],
   "source": [
    "#Question 42\n",
    "l1= [2, -3, 5, 7, 11, -13, 17, -47]\n",
    "l2=[0 if i<0 else i for i in l1 ]\n",
    "l1=l2\n",
    "l1"
   ]
  },
  {
   "cell_type": "code",
   "execution_count": 105,
   "id": "50173795-9bcb-4404-8eb2-7dfd99186f9b",
   "metadata": {},
   "outputs": [
    {
     "data": {
      "text/plain": [
       "['PW', 'is', 'a', 'good', 'platform']"
      ]
     },
     "execution_count": 105,
     "metadata": {},
     "output_type": "execute_result"
    }
   ],
   "source": [
    "#Question 43\n",
    "s=\"PW is a good platform\"\n",
    "l=s.split()\n",
    "l"
   ]
  },
  {
   "cell_type": "code",
   "execution_count": 106,
   "id": "506404dc-cee6-49b6-afa0-799d9276f5c8",
   "metadata": {},
   "outputs": [
    {
     "data": {
      "text/plain": [
       "'PW is a good platform'"
      ]
     },
     "execution_count": 106,
     "metadata": {},
     "output_type": "execute_result"
    }
   ],
   "source": [
    "#Question 44\n",
    "l = ['PW', 'is', 'a', 'good', 'platform']\n",
    "\" \".join(l)"
   ]
  },
  {
   "cell_type": "code",
   "execution_count": 107,
   "id": "714952a4-982f-4a0b-83e9-ba5dd1e5253b",
   "metadata": {},
   "outputs": [
    {
     "name": "stdin",
     "output_type": "stream",
     "text": [
      "Enter the value of n 8\n"
     ]
    },
    {
     "data": {
      "text/plain": [
       "[1, 2, 4, 8, 16, 32, 64, 128]"
      ]
     },
     "execution_count": 107,
     "metadata": {},
     "output_type": "execute_result"
    }
   ],
   "source": [
    "#Question 45\n",
    "def power(num,n):\n",
    "    return [num**i for i in range(0,n)]\n",
    "    \n",
    "n = int(input(\"Enter the value of n\"))\n",
    "l=power(2,n)\n",
    "l"
   ]
  },
  {
   "cell_type": "code",
   "execution_count": 108,
   "id": "060c74fb-fe80-4188-a52c-7e10cf9b056b",
   "metadata": {},
   "outputs": [
    {
     "data": {
      "text/plain": [
       "'platform'"
      ]
     },
     "execution_count": 108,
     "metadata": {},
     "output_type": "execute_result"
    }
   ],
   "source": [
    "#Question 46\n",
    "s=\"PW is a platform good \"\n",
    "l=s.split()\n",
    "l=sorted(l,key=len, reverse = True)\n",
    "l[0]"
   ]
  },
  {
   "cell_type": "code",
   "execution_count": 109,
   "id": "15f81c33-9e2e-4387-8a5a-f94004bcde71",
   "metadata": {},
   "outputs": [
    {
     "data": {
      "text/plain": [
       "'a'"
      ]
     },
     "execution_count": 109,
     "metadata": {},
     "output_type": "execute_result"
    }
   ],
   "source": [
    "#Question 47\n",
    "s=\"PW is a platform good \"\n",
    "l=s.split()\n",
    "l=sorted(l,key=len, reverse = True)\n",
    "l[-1]"
   ]
  },
  {
   "cell_type": "code",
   "execution_count": 110,
   "id": "3565a43a-c792-4002-a74d-4989ef92de08",
   "metadata": {},
   "outputs": [
    {
     "name": "stdin",
     "output_type": "stream",
     "text": [
      "Enter the value of n 10\n"
     ]
    },
    {
     "data": {
      "text/plain": [
       "[1, 3, 6, 10, 15, 21, 28, 36, 45]"
      ]
     },
     "execution_count": 110,
     "metadata": {},
     "output_type": "execute_result"
    }
   ],
   "source": [
    "#Question 48\n",
    "def triangular_number(n):\n",
    "    l=[0]\n",
    "    for i in range (1,n):\n",
    "        l.append(l[i-1]+i)\n",
    "    l.remove(l[0])\n",
    "    return (l)\n",
    "n=int(input(\"Enter the value of n\"))\n",
    "l1=triangular_number(n)\n",
    "l1"
   ]
  },
  {
   "cell_type": "code",
   "execution_count": 111,
   "id": "5ca2d556-b49b-4d26-a620-f176f2805501",
   "metadata": {},
   "outputs": [
    {
     "name": "stdout",
     "output_type": "stream",
     "text": [
      "list contains another list as a subsequence.\n"
     ]
    }
   ],
   "source": [
    "#Question 49\n",
    "def subsequene(l1,l2):\n",
    "    if (set(l1) & set(l2) == set(l2)):\n",
    "        return True\n",
    "    else :\n",
    "        return False\n",
    "    print (s)\n",
    "l1=[1,2,3,4,6,8,\"a\",\"m\",\"n\"]\n",
    "l2=[2,3,6,\"a\",\"m\"]\n",
    "if subsequene(l1,l2) == True:\n",
    "    print(\"list contains another list as a subsequence.\")\n",
    "else:\n",
    "    print(\"list does not contains another list as a subsequence.\")"
   ]
  },
  {
   "cell_type": "code",
   "execution_count": 112,
   "id": "8d465e4c-e3e3-4e9a-b71c-5b81d08c328e",
   "metadata": {},
   "outputs": [
    {
     "data": {
      "text/plain": [
       "[19, 65, 23, 90]"
      ]
     },
     "execution_count": 112,
     "metadata": {},
     "output_type": "execute_result"
    }
   ],
   "source": [
    "#Question 50\n",
    "def swap(l,pos1,pos2):\n",
    "    l[pos1],l[pos2] = l[pos2],l[pos1]\n",
    "    return l\n",
    "l = [23, 65, 19, 90]\n",
    "pos1,pos2 = 1,3\n",
    "swap(l,pos1-1,pos2-1)\n",
    "l"
   ]
  },
  {
   "cell_type": "code",
   "execution_count": 113,
   "id": "b6fd4378-b1be-4c06-b5ca-9aac7d071355",
   "metadata": {},
   "outputs": [],
   "source": [
    "#Tuple Based Practice Problem :"
   ]
  },
  {
   "cell_type": "code",
   "execution_count": 114,
   "id": "1d6cb216-e37b-4939-ac20-2051e55127ee",
   "metadata": {},
   "outputs": [
    {
     "data": {
      "text/plain": [
       "(1, 2, 3, 4, 5)"
      ]
     },
     "execution_count": 114,
     "metadata": {},
     "output_type": "execute_result"
    }
   ],
   "source": [
    "#Question 1\n",
    "t=(1,2,3,4,5)\n",
    "t"
   ]
  },
  {
   "cell_type": "code",
   "execution_count": 115,
   "id": "9dfee3c7-04b0-46c4-bc60-35b30f628c37",
   "metadata": {},
   "outputs": [
    {
     "data": {
      "text/plain": [
       "4"
      ]
     },
     "execution_count": 115,
     "metadata": {},
     "output_type": "execute_result"
    }
   ],
   "source": [
    "#Question 2\n",
    "t=(1,5,8,4,5)\n",
    "t[3]"
   ]
  },
  {
   "cell_type": "code",
   "execution_count": 116,
   "id": "663e0775-e2e1-43cd-9c0e-5b0079814c27",
   "metadata": {},
   "outputs": [
    {
     "name": "stdout",
     "output_type": "stream",
     "text": [
      "5\n"
     ]
    }
   ],
   "source": [
    "#Question 3\n",
    "t=(1,5,8,4,5)\n",
    "c=0\n",
    "for i in t:\n",
    "    c+=1\n",
    "print(c)    "
   ]
  },
  {
   "cell_type": "code",
   "execution_count": 117,
   "id": "27940037-7ef4-41c9-b486-22b6ffc25f06",
   "metadata": {},
   "outputs": [
    {
     "data": {
      "text/plain": [
       "2"
      ]
     },
     "execution_count": 117,
     "metadata": {},
     "output_type": "execute_result"
    }
   ],
   "source": [
    "#Question 4\n",
    "t=(1,5,8,4,5)\n",
    "t.count(5)"
   ]
  },
  {
   "cell_type": "code",
   "execution_count": 118,
   "id": "e8458f3d-ce3b-433b-811d-1d945e1181fe",
   "metadata": {},
   "outputs": [
    {
     "data": {
      "text/plain": [
       "1"
      ]
     },
     "execution_count": 118,
     "metadata": {},
     "output_type": "execute_result"
    }
   ],
   "source": [
    "#Question 5\n",
    "t=(1,5,8,4,5)\n",
    "t.index(5)"
   ]
  },
  {
   "cell_type": "code",
   "execution_count": 119,
   "id": "dd9647a4-5d9c-457c-99ba-fbf74a6ac332",
   "metadata": {},
   "outputs": [
    {
     "name": "stdout",
     "output_type": "stream",
     "text": [
      "Element Exist in tuple\n"
     ]
    }
   ],
   "source": [
    "#Question 6\n",
    "t=(1,5,8,4,5)\n",
    "k=4\n",
    "for i in t:\n",
    "    if k==i:\n",
    "        print(\"Element Exist in tuple\")"
   ]
  },
  {
   "cell_type": "code",
   "execution_count": 120,
   "id": "0d5e6889-5199-4c3b-b161-e6649b5bac6b",
   "metadata": {},
   "outputs": [
    {
     "data": {
      "text/plain": [
       "[1, 5, 8, 4, 5]"
      ]
     },
     "execution_count": 120,
     "metadata": {},
     "output_type": "execute_result"
    }
   ],
   "source": [
    "#Question 7\n",
    "t=(1,5,8,4,5)\n",
    "list(t)"
   ]
  },
  {
   "cell_type": "code",
   "execution_count": 121,
   "id": "b90be578-0ee5-4985-b3b7-3b6ffbd8aa24",
   "metadata": {},
   "outputs": [
    {
     "data": {
      "text/plain": [
       "(1, 5, 8, 4, 5)"
      ]
     },
     "execution_count": 121,
     "metadata": {},
     "output_type": "execute_result"
    }
   ],
   "source": [
    "#Question 8\n",
    "l=[1, 5, 8, 4, 5]\n",
    "tuple(l)"
   ]
  },
  {
   "cell_type": "code",
   "execution_count": 122,
   "id": "e74e94bc-787b-4595-a8b7-8de1a54ac7b0",
   "metadata": {},
   "outputs": [
    {
     "name": "stdout",
     "output_type": "stream",
     "text": [
      "a=1 b=5 c=8 d=4 e=5\n"
     ]
    }
   ],
   "source": [
    "#Question 9\n",
    "t=(1,5,8,4,5)\n",
    "a,b,c,d,e = t\n",
    "print(f\"a={a} b={b} c={c} d={d} e={e}\")"
   ]
  },
  {
   "cell_type": "code",
   "execution_count": 123,
   "id": "4d8747be-fe7c-4399-92d5-fa9417beb26d",
   "metadata": {},
   "outputs": [
    {
     "data": {
      "text/plain": [
       "(2, 4, 6, 8, 10)"
      ]
     },
     "execution_count": 123,
     "metadata": {},
     "output_type": "execute_result"
    }
   ],
   "source": [
    "#Question 10\n",
    "t=tuple(i for i in range(1,11) if i%2==0)\n",
    "t"
   ]
  },
  {
   "cell_type": "code",
   "execution_count": 124,
   "id": "1c4a6bda-f7be-4134-9d52-3754d1579f6b",
   "metadata": {},
   "outputs": [
    {
     "data": {
      "text/plain": [
       "(1, 3, 5, 7, 9)"
      ]
     },
     "execution_count": 124,
     "metadata": {},
     "output_type": "execute_result"
    }
   ],
   "source": [
    "#Question 11\n",
    "t=tuple(i for i in range(1,11) if i%2!=0)\n",
    "t"
   ]
  },
  {
   "cell_type": "code",
   "execution_count": 125,
   "id": "cfe2518a-a200-4c31-a227-3a4e8aa96390",
   "metadata": {},
   "outputs": [
    {
     "data": {
      "text/plain": [
       "(2, 4, 6, 8, 10, 1, 3, 5, 7, 9)"
      ]
     },
     "execution_count": 125,
     "metadata": {},
     "output_type": "execute_result"
    }
   ],
   "source": [
    "#Question 12\n",
    "t1=(2, 4, 6, 8, 10)\n",
    "t2=(1, 3, 5, 7, 9)\n",
    "t1+t2"
   ]
  },
  {
   "cell_type": "code",
   "execution_count": 126,
   "id": "d4289692-e09f-43b4-8828-f1cfc56d695c",
   "metadata": {},
   "outputs": [
    {
     "data": {
      "text/plain": [
       "(1, 3, 5, 7, 9, 1, 3, 5, 7, 9, 1, 3, 5, 7, 9)"
      ]
     },
     "execution_count": 126,
     "metadata": {},
     "output_type": "execute_result"
    }
   ],
   "source": [
    "#Question 13\n",
    "t2=(1, 3, 5, 7, 9)\n",
    "3*t2"
   ]
  },
  {
   "cell_type": "code",
   "execution_count": 127,
   "id": "ed125e4b-4ce2-4e38-8c93-0477e6561d8d",
   "metadata": {},
   "outputs": [
    {
     "name": "stdout",
     "output_type": "stream",
     "text": [
      "tuple is empty\n"
     ]
    }
   ],
   "source": [
    "#Qestion 14\n",
    "t=()\n",
    "if not t:\n",
    "    print(\"tuple is empty\")"
   ]
  },
  {
   "cell_type": "code",
   "execution_count": 128,
   "id": "d055c20d-1914-4456-ba0e-e32abfa530c8",
   "metadata": {},
   "outputs": [
    {
     "data": {
      "text/plain": [
       "((1, 3, 5, 7, 9), 2, 4, 5, 90)"
      ]
     },
     "execution_count": 128,
     "metadata": {},
     "output_type": "execute_result"
    }
   ],
   "source": [
    "#Question 15\n",
    "t1=(1, 3, 5, 7, 9)\n",
    "t2=(2,4,5,90)\n",
    "(t1,)+t2\n"
   ]
  },
  {
   "cell_type": "code",
   "execution_count": 129,
   "id": "4ba30b00-2c10-4b2a-917f-3aace0f1d904",
   "metadata": {},
   "outputs": [
    {
     "data": {
      "text/plain": [
       "(1, 3, 5, 7, 9)"
      ]
     },
     "execution_count": 129,
     "metadata": {},
     "output_type": "execute_result"
    }
   ],
   "source": [
    "#Question 16\n",
    "t=((1, 3, 5, 7, 9), 2, 4, 5, 90)\n",
    "t[0]"
   ]
  },
  {
   "cell_type": "code",
   "execution_count": 130,
   "id": "a2351f07-3c3a-4965-b7bb-fc86a705d6aa",
   "metadata": {},
   "outputs": [
    {
     "data": {
      "text/plain": [
       "1"
      ]
     },
     "execution_count": 130,
     "metadata": {},
     "output_type": "execute_result"
    }
   ],
   "source": [
    "#Question 17\n",
    "t=(1)\n",
    "t"
   ]
  },
  {
   "cell_type": "code",
   "execution_count": 131,
   "id": "7c6c21ef-9929-428e-b199-786436aa54e1",
   "metadata": {},
   "outputs": [
    {
     "name": "stdout",
     "output_type": "stream",
     "text": [
      "True\n",
      "False\n",
      "False\n"
     ]
    }
   ],
   "source": [
    "#Question 18\n",
    "tuple1 = (1, 2, 3)\n",
    "tuple2 = (4, 5, 6)\n",
    "\n",
    "print(tuple1 < tuple2) \n",
    "print(tuple1 > tuple2)  \n",
    "print(tuple1 == tuple2)"
   ]
  },
  {
   "cell_type": "code",
   "execution_count": 132,
   "id": "0de4fb7b-d210-4a0f-a14d-765e7e5777e3",
   "metadata": {},
   "outputs": [],
   "source": [
    "#Question 19\n",
    "tuple1 = (1, 2, 3)\n",
    "del tuple1"
   ]
  },
  {
   "cell_type": "code",
   "execution_count": 133,
   "id": "e8bb4f1d-7277-4f0c-918e-e2d528e00678",
   "metadata": {},
   "outputs": [
    {
     "data": {
      "text/plain": [
       "(1, 3, 5, 7, 9)"
      ]
     },
     "execution_count": 133,
     "metadata": {},
     "output_type": "execute_result"
    }
   ],
   "source": [
    "#Question 20\n",
    "t=(1, 3, 5, 7, 9)\n",
    "t[0:len(t)]"
   ]
  },
  {
   "cell_type": "code",
   "execution_count": 134,
   "id": "7bc44d80-168d-42f0-b262-a5d651011b07",
   "metadata": {},
   "outputs": [
    {
     "data": {
      "text/plain": [
       "9"
      ]
     },
     "execution_count": 134,
     "metadata": {},
     "output_type": "execute_result"
    }
   ],
   "source": [
    "#Question 21\n",
    "t=(1, 3, 5, 7, 9,2,4,6)\n",
    "t=sorted(t)\n",
    "t[-1]"
   ]
  },
  {
   "cell_type": "code",
   "execution_count": 135,
   "id": "9d691063-b8ee-4360-a4c7-af59a843d1dc",
   "metadata": {},
   "outputs": [
    {
     "data": {
      "text/plain": [
       "1"
      ]
     },
     "execution_count": 135,
     "metadata": {},
     "output_type": "execute_result"
    }
   ],
   "source": [
    "#Question 22\n",
    "t=(1, 3, 5, 7, 9,2,4,6)\n",
    "t=sorted(t)\n",
    "t[0]"
   ]
  },
  {
   "cell_type": "code",
   "execution_count": 136,
   "id": "85471d56-ee0d-447f-967d-25f84ac30bc3",
   "metadata": {},
   "outputs": [
    {
     "data": {
      "text/plain": [
       "('b', 'e', 'a', 'u', 't', 'i', 'f', 'u', 'l')"
      ]
     },
     "execution_count": 136,
     "metadata": {},
     "output_type": "execute_result"
    }
   ],
   "source": [
    "#Question 23\n",
    "str1 =\"beautiful\"\n",
    "tuple(str1)"
   ]
  },
  {
   "cell_type": "code",
   "execution_count": 137,
   "id": "72677185-e613-4180-b996-8ed44e962fe9",
   "metadata": {},
   "outputs": [
    {
     "data": {
      "text/plain": [
       "'beautiful'"
      ]
     },
     "execution_count": 137,
     "metadata": {},
     "output_type": "execute_result"
    }
   ],
   "source": [
    "#Question 24\n",
    "t = ('b', 'e', 'a', 'u', 't', 'i', 'f', 'u', 'l')\n",
    "\"\".join(t)"
   ]
  },
  {
   "cell_type": "code",
   "execution_count": 138,
   "id": "bdc6dea6-2447-410c-b4b0-dfb7495f58ef",
   "metadata": {},
   "outputs": [
    {
     "name": "stdout",
     "output_type": "stream",
     "text": [
      "('tuple', False, 3.2, 1)\n"
     ]
    }
   ],
   "source": [
    "#Question 25\n",
    "tuplex = (\"tuple\", False, 3.2, 1)\n",
    "print(tuplex)"
   ]
  },
  {
   "cell_type": "code",
   "execution_count": 139,
   "id": "dadf238f-94ad-4024-b4ac-b03f7b2df0e4",
   "metadata": {},
   "outputs": [
    {
     "name": "stdout",
     "output_type": "stream",
     "text": [
      "True\n"
     ]
    }
   ],
   "source": [
    "#Question 26\n",
    "t=(1,2,3)\n",
    "t1=(1,2,3)\n",
    "res= t1==t\n",
    "print(str(res))"
   ]
  },
  {
   "cell_type": "code",
   "execution_count": 140,
   "id": "480f5a6d-564a-42f1-aa0b-1ba23ec82944",
   "metadata": {},
   "outputs": [
    {
     "data": {
      "text/plain": [
       "[1, 2, 3, 4, 5, 6, 7, 9]"
      ]
     },
     "execution_count": 140,
     "metadata": {},
     "output_type": "execute_result"
    }
   ],
   "source": [
    "#Question 27\n",
    "t=(1, 3, 5, 7, 9,2,4,6)\n",
    "t=sorted(t)\n",
    "t"
   ]
  },
  {
   "cell_type": "code",
   "execution_count": 141,
   "id": "58c3c776-dd22-49ad-8a37-5b129f81f3c6",
   "metadata": {},
   "outputs": [
    {
     "data": {
      "text/plain": [
       "('1', '3', '5', '7', '9', '2', '4', '6')"
      ]
     },
     "execution_count": 141,
     "metadata": {},
     "output_type": "execute_result"
    }
   ],
   "source": [
    "#Question 28\n",
    "t=(1, 3, 5, 7, 9,2,4,6)\n",
    "tuple(str(i) for i in t)"
   ]
  },
  {
   "cell_type": "code",
   "execution_count": 142,
   "id": "3574d926-5e47-4b79-847e-f2d77a681900",
   "metadata": {},
   "outputs": [
    {
     "data": {
      "text/plain": [
       "(1, 3, 5, 7, 9, 2, 4, 6)"
      ]
     },
     "execution_count": 142,
     "metadata": {},
     "output_type": "execute_result"
    }
   ],
   "source": [
    "#Question 29\n",
    "t=('1', '3', '5', '7', '9', '2', '4', '6')\n",
    "tuple(int (i) for i in t)"
   ]
  },
  {
   "cell_type": "code",
   "execution_count": 143,
   "id": "b8758c86-ea0b-4e70-9a4f-c34e08bd29db",
   "metadata": {},
   "outputs": [
    {
     "data": {
      "text/plain": [
       "('1', '3', '5', '7', '9', '2', '4', '6', 1, 3, 5, 7, 9, 2, 4, 6)"
      ]
     },
     "execution_count": 143,
     "metadata": {},
     "output_type": "execute_result"
    }
   ],
   "source": [
    "#Question 30\n",
    "t1=('1', '3', '5', '7', '9', '2', '4', '6')\n",
    "t2=(1, 3, 5, 7, 9,2,4,6)\n",
    "t1+t2"
   ]
  },
  {
   "cell_type": "code",
   "execution_count": 144,
   "id": "65506f09-ad94-42c1-b276-564ed7732ba2",
   "metadata": {},
   "outputs": [
    {
     "data": {
      "text/plain": [
       "(1, 3, 5, 7, 9, 2, 78, 0, 56, 3, 2, 4, 6)"
      ]
     },
     "execution_count": 144,
     "metadata": {},
     "output_type": "execute_result"
    }
   ],
   "source": [
    "#Question 31\n",
    "def flatten_tuple(t2):\n",
    "    l=[]\n",
    "    l1=[t2]\n",
    "    while l1:\n",
    "        i = l1.pop()\n",
    "        for item in i:\n",
    "            if isinstance(item,tuple):\n",
    "                l1.append(item)\n",
    "            else:\n",
    "                l.append(item)\n",
    "    return tuple(l)\n",
    "    \n",
    "t2=(1, 3, 5, 7, 9,(2,4,6),(2,78,0,56,3))\n",
    "flatten_tuple(t2)\n"
   ]
  },
  {
   "cell_type": "code",
   "execution_count": 145,
   "id": "54724903-1364-4210-99e2-9e3f0de3a20b",
   "metadata": {},
   "outputs": [
    {
     "data": {
      "text/plain": [
       "(2, 3, 5, 7, 11)"
      ]
     },
     "execution_count": 145,
     "metadata": {},
     "output_type": "execute_result"
    }
   ],
   "source": [
    "#Question 32\n",
    "flag=0\n",
    "l=[]\n",
    "i=2\n",
    "k=1\n",
    "while k!=6:\n",
    "    flag=0\n",
    "    for j in range(2,int(i/2)+1):\n",
    "        if i%j==0:\n",
    "            i=i+1\n",
    "            flag=1\n",
    "            break\n",
    "    if (flag==0):\n",
    "        l.append(i)\n",
    "        i=i+1\n",
    "        k+=1\n",
    "    \n",
    "tuple(l)            "
   ]
  },
  {
   "cell_type": "code",
   "execution_count": 146,
   "id": "728b99f7-f6f7-4808-bfff-473d3c4c4a25",
   "metadata": {},
   "outputs": [
    {
     "name": "stdout",
     "output_type": "stream",
     "text": [
      "palindrome\n"
     ]
    }
   ],
   "source": [
    "#Question 33\n",
    "t = (\"a\",\"b\",\"b\",\"a\")\n",
    "t1=t[::-1]\n",
    "if t==t1:\n",
    "    print(\"palindrome\")\n",
    "else:\n",
    "    print(\"not palindrome\")"
   ]
  },
  {
   "cell_type": "code",
   "execution_count": 147,
   "id": "9d1fda15-7c99-42de-a61f-50a8479f9372",
   "metadata": {},
   "outputs": [
    {
     "data": {
      "text/plain": [
       "(1, 4, 9, 16, 25)"
      ]
     },
     "execution_count": 147,
     "metadata": {},
     "output_type": "execute_result"
    }
   ],
   "source": [
    "#Question 34\n",
    "tuple(i**2 for i in range(1,6))\n"
   ]
  },
  {
   "cell_type": "code",
   "execution_count": 148,
   "id": "454c68c8-4293-4d1a-a9bb-96e3f48d0e1c",
   "metadata": {},
   "outputs": [
    {
     "data": {
      "text/plain": [
       "(4, 16)"
      ]
     },
     "execution_count": 148,
     "metadata": {},
     "output_type": "execute_result"
    }
   ],
   "source": [
    "#Question 35\n",
    "t= (1, 4, 9, 16, 25)\n",
    "tuple(i for i in t  if(i%2==0) )"
   ]
  },
  {
   "cell_type": "code",
   "execution_count": 149,
   "id": "02dcce50-f7bf-44af-82a0-596c2e757ea5",
   "metadata": {},
   "outputs": [
    {
     "data": {
      "text/plain": [
       "(1, 4, 9, 16, 25, 1, 4, 9, 16, 25)"
      ]
     },
     "execution_count": 149,
     "metadata": {},
     "output_type": "execute_result"
    }
   ],
   "source": [
    "#Question 36\n",
    "t= (1, 4, 9, 16, 25)\n",
    "t=t*2\n",
    "t"
   ]
  },
  {
   "cell_type": "code",
   "execution_count": 150,
   "id": "27cbbcc5-7fc1-42a9-b433-a8b17c16e8e1",
   "metadata": {},
   "outputs": [
    {
     "data": {
      "text/plain": [
       "(50, 56, 23, 97, 96, 74, 46, 79, 45, 7)"
      ]
     },
     "execution_count": 150,
     "metadata": {},
     "output_type": "execute_result"
    }
   ],
   "source": [
    "#question 37\n",
    "import random\n",
    " \n",
    "rand_list=[]\n",
    "n=10\n",
    "for i in range(n):\n",
    "    rand_list.append(random.randint(1, 100))\n",
    "tuple(rand_list)"
   ]
  },
  {
   "cell_type": "code",
   "execution_count": 151,
   "id": "b5525936-2b77-426d-81d2-479b238d87cf",
   "metadata": {},
   "outputs": [
    {
     "name": "stdout",
     "output_type": "stream",
     "text": [
      "tuple is not sorted\n"
     ]
    }
   ],
   "source": [
    "#Question 38\n",
    "t=(36, 20, 11, 76, 95, 91, 93, 9, 31, 31)\n",
    "t1=sorted(t)\n",
    "i=0\n",
    "while(i!=len(t)-1):\n",
    "    if t[i]!=t1[i]:\n",
    "        print(\"tuple is not sorted\")\n",
    "        break\n",
    "    else:\n",
    "        i=i+1"
   ]
  },
  {
   "cell_type": "code",
   "execution_count": 152,
   "id": "08aa4261-4a92-4048-9f6c-916eaec89c41",
   "metadata": {},
   "outputs": [
    {
     "data": {
      "text/plain": [
       "(5, 6, 7, 8, 5, 45, 56, 2, 3, 4)"
      ]
     },
     "execution_count": 152,
     "metadata": {},
     "output_type": "execute_result"
    }
   ],
   "source": [
    "#Question 39\n",
    "def rotate_left(tup,n):\n",
    "    if len(tup)==0:\n",
    "        return tup\n",
    "    n=n%len(l)\n",
    "    rotated_tup = tup[n:]+tup[:n]\n",
    "    return rotated_tup\n",
    "l=(2,3,4,5,6,7,8,5,45,56)\n",
    "n=3\n",
    "rotate_left(l,n)"
   ]
  },
  {
   "cell_type": "code",
   "execution_count": 153,
   "id": "7f20d901-2336-4c3d-8132-b7791f5f185c",
   "metadata": {},
   "outputs": [
    {
     "data": {
      "text/plain": [
       "(5, 45, 56, 2, 3, 4, 5, 6, 7, 8)"
      ]
     },
     "execution_count": 153,
     "metadata": {},
     "output_type": "execute_result"
    }
   ],
   "source": [
    "#Question 40\n",
    "def rotate_right(tup,n):\n",
    "    if len(tup)==0:\n",
    "        return tup\n",
    "    n=n%len(l)\n",
    "    rotated_tup = tup[len(tup)-n:]+tup[:len(tup)-n]\n",
    "    return rotated_tup\n",
    "l=(2,3,4,5,6,7,8,5,45,56)\n",
    "n=3\n",
    "rotate_right(l,n)"
   ]
  },
  {
   "cell_type": "code",
   "execution_count": 154,
   "id": "eb72bd4c-ba6b-4cef-ab0d-efa7ba122b65",
   "metadata": {},
   "outputs": [
    {
     "data": {
      "text/plain": [
       "(0, 1, 1, 2, 3)"
      ]
     },
     "execution_count": 154,
     "metadata": {},
     "output_type": "execute_result"
    }
   ],
   "source": [
    "#Question 41\n",
    "fibonaci=[0,1]\n",
    "while len(fibonaci)<5:\n",
    "    nxt =fibonaci[-2]+fibonaci[-1]\n",
    "    fibonaci.append(nxt)\n",
    "tuple(fibonaci)"
   ]
  },
  {
   "cell_type": "code",
   "execution_count": 155,
   "id": "f33eb320-00bc-4804-848e-87e79f88e7c5",
   "metadata": {},
   "outputs": [
    {
     "name": "stdin",
     "output_type": "stream",
     "text": [
      "enter the item 36 48 slaman\n"
     ]
    },
    {
     "data": {
      "text/plain": [
       "('36', '48', 'slaman')"
      ]
     },
     "execution_count": 155,
     "metadata": {},
     "output_type": "execute_result"
    }
   ],
   "source": [
    "#Question 42\n",
    "i=input(\"enter the item\")\n",
    "s=i.split()\n",
    "tuple1=tuple(s)\n",
    "tuple1"
   ]
  },
  {
   "cell_type": "code",
   "execution_count": 156,
   "id": "1119560d-02de-4d78-ad90-a7826d9c3ad3",
   "metadata": {},
   "outputs": [
    {
     "data": {
      "text/plain": [
       "[1, 0, 1, 2, 3]"
      ]
     },
     "execution_count": 156,
     "metadata": {},
     "output_type": "execute_result"
    }
   ],
   "source": [
    "#Question 43\n",
    "t=(0, 1, 1, 2, 3)\n",
    "t=list(t)\n",
    "t[0],t[1] = t[1],t[0]\n",
    "t"
   ]
  },
  {
   "cell_type": "code",
   "execution_count": 157,
   "id": "82e967f0-cab9-41bd-b2c2-478fb01671cb",
   "metadata": {},
   "outputs": [
    {
     "data": {
      "text/plain": [
       "(3, 2, 1, 1, 0)"
      ]
     },
     "execution_count": 157,
     "metadata": {},
     "output_type": "execute_result"
    }
   ],
   "source": [
    "#Question 44\n",
    "t=(0, 1, 1, 2, 3)\n",
    "t[::-1]"
   ]
  },
  {
   "cell_type": "code",
   "execution_count": 158,
   "id": "f681c43a-4b4f-4736-9840-2cec7e9a9268",
   "metadata": {},
   "outputs": [
    {
     "name": "stdin",
     "output_type": "stream",
     "text": [
      "enter n: 8\n"
     ]
    },
    {
     "data": {
      "text/plain": [
       "(1, 2, 4, 8, 16, 32, 64, 128, 256)"
      ]
     },
     "execution_count": 158,
     "metadata": {},
     "output_type": "execute_result"
    }
   ],
   "source": [
    "#Question 45\n",
    "n=int(input(\"enter n:\"))\n",
    "tuple(2**i for i in range(n+1))\n"
   ]
  },
  {
   "cell_type": "code",
   "execution_count": 159,
   "id": "65d5fbae-de25-43da-ade1-8d4f6c340371",
   "metadata": {},
   "outputs": [
    {
     "data": {
      "text/plain": [
       "'salman'"
      ]
     },
     "execution_count": 159,
     "metadata": {},
     "output_type": "execute_result"
    }
   ],
   "source": [
    "#Question 46\n",
    "t=(\"ahmad\",\"salman\",\"PW\")\n",
    "t=sorted(t,key=len)\n",
    "t[-1]"
   ]
  },
  {
   "cell_type": "code",
   "execution_count": 160,
   "id": "4453e086-5bee-4763-9fc3-162dd9825e69",
   "metadata": {},
   "outputs": [
    {
     "data": {
      "text/plain": [
       "'PW'"
      ]
     },
     "execution_count": 160,
     "metadata": {},
     "output_type": "execute_result"
    }
   ],
   "source": [
    "#Question 47\n",
    "t=(\"ahmad\",\"salman\",\"PW\")\n",
    "t=sorted(t,key=len)\n",
    "t[0]"
   ]
  },
  {
   "cell_type": "code",
   "execution_count": 161,
   "id": "704ca094-f2e3-44b2-bf07-e8ffefeb01fd",
   "metadata": {},
   "outputs": [
    {
     "name": "stdin",
     "output_type": "stream",
     "text": [
      "Enter the value of n 10\n"
     ]
    },
    {
     "data": {
      "text/plain": [
       "(1, 3, 6, 10, 15, 21, 28, 36, 45, 55)"
      ]
     },
     "execution_count": 161,
     "metadata": {},
     "output_type": "execute_result"
    }
   ],
   "source": [
    "#Question 48\n",
    "l=[0]\n",
    "f=int(input(\"Enter the value of n\"))\n",
    "for i in range(1,f+1):\n",
    "    l.append(i+l[(i-1)])\n",
    "l.remove(l[0])\n",
    "tuple(l)"
   ]
  },
  {
   "cell_type": "code",
   "execution_count": 162,
   "id": "ec0a1aa0-67ba-4869-b504-43ecdfa162e6",
   "metadata": {},
   "outputs": [
    {
     "name": "stdout",
     "output_type": "stream",
     "text": [
      "The tuple contain another tuple as subsequence\n"
     ]
    }
   ],
   "source": [
    "#Question 49\n",
    "t1=(1,3,4,5,6,\"a\",\"c\")\n",
    "t2=(1,3,5,\"a\")\n",
    "if set(t1) &set(t2)==set(t2):\n",
    "    print(\"The tuple contain another tuple as subsequence\")\n",
    "else:\n",
    "    print(\"The tuple contain another tuple as subsequence\")"
   ]
  },
  {
   "cell_type": "code",
   "execution_count": 163,
   "id": "84a126e1-0529-4d24-a98a-e23014e227a5",
   "metadata": {},
   "outputs": [
    {
     "name": "stdin",
     "output_type": "stream",
     "text": [
      "Enter the value of n 10\n"
     ]
    },
    {
     "data": {
      "text/plain": [
       "(0, 1, 0, 1, 0, 1, 0, 1, 0, 1, 0, 1, 0, 1, 0, 1, 0, 1, 0, 1)"
      ]
     },
     "execution_count": 163,
     "metadata": {},
     "output_type": "execute_result"
    }
   ],
   "source": [
    "#Question 50\n",
    "l=[]\n",
    "f=int(input(\"Enter the value of n\"))\n",
    "while (f!=0):\n",
    "    l.append(0)\n",
    "    l.append(1)\n",
    "    f-=1\n",
    "tuple(l)"
   ]
  },
  {
   "cell_type": "code",
   "execution_count": 164,
   "id": "f82ee98d-8e25-4818-8e83-5f29e730456b",
   "metadata": {},
   "outputs": [],
   "source": [
    "#Set Based Practice Problem"
   ]
  },
  {
   "cell_type": "code",
   "execution_count": 169,
   "id": "0ed9ef6d-7ed3-4e3c-b592-5cf4252c2985",
   "metadata": {},
   "outputs": [
    {
     "data": {
      "text/plain": [
       "{1, 2, 3, 4, 5}"
      ]
     },
     "execution_count": 169,
     "metadata": {},
     "output_type": "execute_result"
    }
   ],
   "source": [
    "#Question 1\n",
    "my_set = set()\n",
    "for i in range(1,6):\n",
    "    my_set.add(i)\n",
    "my_set"
   ]
  },
  {
   "cell_type": "code",
   "execution_count": 170,
   "id": "d4204c97-39ce-440a-8c22-d7c25e8a2896",
   "metadata": {},
   "outputs": [
    {
     "data": {
      "text/plain": [
       "{1, 2, 3, 4, 5, 10}"
      ]
     },
     "execution_count": 170,
     "metadata": {},
     "output_type": "execute_result"
    }
   ],
   "source": [
    "#Question 2\n",
    "s1={1, 2, 3, 4, 5}\n",
    "s1.add(10)\n",
    "s1"
   ]
  },
  {
   "cell_type": "code",
   "execution_count": 171,
   "id": "632acefc-54cb-47c0-9f57-755128d4d085",
   "metadata": {},
   "outputs": [
    {
     "data": {
      "text/plain": [
       "{1, 3, 4, 5, 10}"
      ]
     },
     "execution_count": 171,
     "metadata": {},
     "output_type": "execute_result"
    }
   ],
   "source": [
    "#Question 3\n",
    "s2={1, 2, 3, 4, 5, 10}\n",
    "s2.remove(2)\n",
    "s2"
   ]
  },
  {
   "cell_type": "code",
   "execution_count": 172,
   "id": "0557e1e4-f002-4e93-a880-f15f886f615e",
   "metadata": {},
   "outputs": [
    {
     "name": "stdout",
     "output_type": "stream",
     "text": [
      "Element in s1\n"
     ]
    }
   ],
   "source": [
    "#Question 4\n",
    "s2={1, 2, 3, 4, 5, 10}\n",
    "if 3 in s1:\n",
    "    print(\"Element in s1\")"
   ]
  },
  {
   "cell_type": "code",
   "execution_count": 173,
   "id": "d4d229df-638e-4fe8-af1f-57bfaec6bef5",
   "metadata": {},
   "outputs": [
    {
     "data": {
      "text/plain": [
       "6"
      ]
     },
     "execution_count": 173,
     "metadata": {},
     "output_type": "execute_result"
    }
   ],
   "source": [
    "#Question 5\n",
    "s2={1, 2, 3, 4, 5, 10}\n",
    "count=0\n",
    "for i in range (len(s2)):\n",
    "    s2.pop()\n",
    "    count+=1\n",
    "count"
   ]
  },
  {
   "cell_type": "code",
   "execution_count": 174,
   "id": "fe241c66-4f8d-4871-b80d-02ebbbe4e211",
   "metadata": {},
   "outputs": [
    {
     "data": {
      "text/plain": [
       "set()"
      ]
     },
     "execution_count": 174,
     "metadata": {},
     "output_type": "execute_result"
    }
   ],
   "source": [
    "#Question 6\n",
    "s2={1, 2, 3, 4, 5, 10}\n",
    "s2.clear()\n",
    "s2"
   ]
  },
  {
   "cell_type": "code",
   "execution_count": 175,
   "id": "6abb749e-56fa-4286-87cf-8381065749d5",
   "metadata": {},
   "outputs": [
    {
     "data": {
      "text/plain": [
       "{2, 4, 6, 8, 10}"
      ]
     },
     "execution_count": 175,
     "metadata": {},
     "output_type": "execute_result"
    }
   ],
   "source": [
    "#Question 7\n",
    "set_even=set()\n",
    "{i for i in range(1,11) if i%2==0}"
   ]
  },
  {
   "cell_type": "code",
   "execution_count": 176,
   "id": "37d449df-791c-44e3-830c-35656fe61f40",
   "metadata": {},
   "outputs": [
    {
     "data": {
      "text/plain": [
       "{1, 3, 5, 7, 9}"
      ]
     },
     "execution_count": 176,
     "metadata": {},
     "output_type": "execute_result"
    }
   ],
   "source": [
    "#Question 8\n",
    "set_even=set()\n",
    "{i for i in range(1,11) if i%2!=0}"
   ]
  },
  {
   "cell_type": "code",
   "execution_count": 177,
   "id": "5ab37481-c1d0-4577-bd64-ccb574c4fac0",
   "metadata": {},
   "outputs": [
    {
     "data": {
      "text/plain": [
       "{1, 2, 3, 4, 5, 6, 7, 10}"
      ]
     },
     "execution_count": 177,
     "metadata": {},
     "output_type": "execute_result"
    }
   ],
   "source": [
    "#Question 9\n",
    "s1={1, 2, 3, 4, 5, 10}\n",
    "s2={3,5,6,7,1,10}\n",
    "s1.union(s2)"
   ]
  },
  {
   "cell_type": "code",
   "execution_count": 178,
   "id": "bd31de2e-0c08-4eb3-8ad7-a4b78c1d53fd",
   "metadata": {},
   "outputs": [
    {
     "data": {
      "text/plain": [
       "{1, 3, 5, 10}"
      ]
     },
     "execution_count": 178,
     "metadata": {},
     "output_type": "execute_result"
    }
   ],
   "source": [
    "#Question 10\n",
    "s1={1, 2, 3, 4, 5, 10}\n",
    "s2={3,5,6,7,1,10}\n",
    "s1.intersection(s2)"
   ]
  },
  {
   "cell_type": "code",
   "execution_count": 179,
   "id": "3430c8db-897f-4275-b5d8-fc66b9953683",
   "metadata": {},
   "outputs": [
    {
     "data": {
      "text/plain": [
       "{2, 4}"
      ]
     },
     "execution_count": 179,
     "metadata": {},
     "output_type": "execute_result"
    }
   ],
   "source": [
    "#Question 11\n",
    "s1={1, 2, 3, 4, 5, 10}\n",
    "s2={3,5,1,10}\n",
    "s1.difference(s2)"
   ]
  },
  {
   "cell_type": "code",
   "execution_count": 180,
   "id": "d7eaab41-1c65-4cf6-8e14-2b8547a1b461",
   "metadata": {},
   "outputs": [
    {
     "data": {
      "text/plain": [
       "True"
      ]
     },
     "execution_count": 180,
     "metadata": {},
     "output_type": "execute_result"
    }
   ],
   "source": [
    "#Question 12\n",
    "s1={1, 2, 3, 4, 5, 10}\n",
    "s2={3,5,1,10}\n",
    "s2.issubset(s1)"
   ]
  },
  {
   "cell_type": "code",
   "execution_count": 181,
   "id": "6abe6343-4d5e-4a83-8056-283241287017",
   "metadata": {},
   "outputs": [
    {
     "data": {
      "text/plain": [
       "True"
      ]
     },
     "execution_count": 181,
     "metadata": {},
     "output_type": "execute_result"
    }
   ],
   "source": [
    "#Question 13\n",
    "s1={1, 2, 3, 4, 5, 10}\n",
    "s2={3,5,1,10}\n",
    "s1.issuperset(s2)"
   ]
  },
  {
   "cell_type": "code",
   "execution_count": 182,
   "id": "751ff758-925c-415e-872b-aed9442fa33a",
   "metadata": {},
   "outputs": [
    {
     "data": {
      "text/plain": [
       "{1, 2, 3, 4, 5, 10}"
      ]
     },
     "execution_count": 182,
     "metadata": {},
     "output_type": "execute_result"
    }
   ],
   "source": [
    "#Question 14\n",
    "s1=[1, 2, 3, 4, 5, 10]\n",
    "set(s1)"
   ]
  },
  {
   "cell_type": "code",
   "execution_count": 183,
   "id": "9c4946cd-67d1-4c0f-911a-5cd0618d755e",
   "metadata": {},
   "outputs": [
    {
     "data": {
      "text/plain": [
       "[1, 2, 3, 4, 5, 10]"
      ]
     },
     "execution_count": 183,
     "metadata": {},
     "output_type": "execute_result"
    }
   ],
   "source": [
    "#Question 15\n",
    "s1 = {1, 2, 3, 4, 5, 10}\n",
    "list(s1)"
   ]
  },
  {
   "cell_type": "code",
   "execution_count": 184,
   "id": "66192b4f-1377-4c76-b94f-9403a0f4c8e1",
   "metadata": {},
   "outputs": [
    {
     "data": {
      "text/plain": [
       "{2, 3, 4, 5, 10}"
      ]
     },
     "execution_count": 184,
     "metadata": {},
     "output_type": "execute_result"
    }
   ],
   "source": [
    "#Question 16\n",
    "s1 = {1,2, 3, 4, 5, 10}\n",
    "s1.pop()#in set pop choose arbitrary element which is random not choose by us.\n",
    "s1"
   ]
  },
  {
   "cell_type": "code",
   "execution_count": 185,
   "id": "f284b4b8-3bda-4ac1-a10d-282a6560c86c",
   "metadata": {},
   "outputs": [
    {
     "data": {
      "text/plain": [
       "{1, 3, 4, 5, 10}"
      ]
     },
     "execution_count": 185,
     "metadata": {},
     "output_type": "execute_result"
    }
   ],
   "source": [
    "#Question 17\n",
    "s1 = {1,2, 3, 4, 5, 10}\n",
    "s1.remove(2)\n",
    "s1"
   ]
  },
  {
   "cell_type": "code",
   "execution_count": 186,
   "id": "ec274b14-bb5f-48e5-aaff-834d1799c774",
   "metadata": {},
   "outputs": [
    {
     "data": {
      "text/plain": [
       "True"
      ]
     },
     "execution_count": 186,
     "metadata": {},
     "output_type": "execute_result"
    }
   ],
   "source": [
    "#Question 18\n",
    "s1= {1, 3, 4, 5, 10}\n",
    "s2={2,7,11}\n",
    "s1.isdisjoint(s2)"
   ]
  },
  {
   "cell_type": "code",
   "execution_count": 187,
   "id": "a7540e80-ab5f-4020-b23b-213716d6cdf1",
   "metadata": {},
   "outputs": [
    {
     "data": {
      "text/plain": [
       "{1, 2, 3, 4, 5, 7, 11}"
      ]
     },
     "execution_count": 187,
     "metadata": {},
     "output_type": "execute_result"
    }
   ],
   "source": [
    "#Question 19\n",
    "s1= {1, 3, 4, 5, 10}\n",
    "s2={2,7,11,10}\n",
    "s1.symmetric_difference(s2)"
   ]
  },
  {
   "cell_type": "code",
   "execution_count": 188,
   "id": "dac8787c-9770-4882-8b2f-2b1f0f202177",
   "metadata": {},
   "outputs": [
    {
     "data": {
      "text/plain": [
       "{1, 2, 3, 4, 5, 7, 10, 11, 23, 34}"
      ]
     },
     "execution_count": 188,
     "metadata": {},
     "output_type": "execute_result"
    }
   ],
   "source": [
    "#Question 20\n",
    "s1= {1, 3, 4, 5, 10}\n",
    "s2={2,7,11,23,34}\n",
    "s1.update(s2)\n",
    "s1"
   ]
  },
  {
   "cell_type": "code",
   "execution_count": 189,
   "id": "8d80e833-ceba-4588-af27-21d7f100ea66",
   "metadata": {},
   "outputs": [
    {
     "data": {
      "text/plain": [
       "{2, 3, 5, 7, 11}"
      ]
     },
     "execution_count": 189,
     "metadata": {},
     "output_type": "execute_result"
    }
   ],
   "source": [
    "#Question 21\n",
    "i=2\n",
    "k=1\n",
    "l=set()\n",
    "while k!=6:\n",
    "    flag=0\n",
    "    for j in range(2,int(i/2)+1):\n",
    "        if i%j==0:\n",
    "            i=i+1\n",
    "            flag=1\n",
    "            break\n",
    "    if (flag==0):\n",
    "        l.add(i)\n",
    "        i=i+1\n",
    "        k+=1\n",
    "    \n",
    "(l) \n"
   ]
  },
  {
   "cell_type": "code",
   "execution_count": 190,
   "id": "76c48af9-66af-413b-b4fe-5b578a8f17d4",
   "metadata": {},
   "outputs": [
    {
     "name": "stdout",
     "output_type": "stream",
     "text": [
      "Two sets are identical\n"
     ]
    }
   ],
   "source": [
    "#Question 22\n",
    "s1={2, 3, 5, 7, 11}\n",
    "s2={3,2,5,7,11}\n",
    "if s1==s2:\n",
    "    print(\"Two sets are identical\")"
   ]
  },
  {
   "cell_type": "code",
   "execution_count": 191,
   "id": "40c31f52-f64c-4b4d-8cf6-24629a6a7f3c",
   "metadata": {},
   "outputs": [
    {
     "data": {
      "text/plain": [
       "frozenset({2, 3, 5, 7, 11})"
      ]
     },
     "execution_count": 191,
     "metadata": {},
     "output_type": "execute_result"
    }
   ],
   "source": [
    "#Question 23\n",
    "s1={2, 3, 5, 7, 11}\n",
    "s2 = frozenset(s1)\n",
    "(s2)"
   ]
  },
  {
   "cell_type": "code",
   "execution_count": 192,
   "id": "1d205306-4959-4c8c-b2be-87c3b2af273f",
   "metadata": {},
   "outputs": [
    {
     "data": {
      "text/plain": [
       "True"
      ]
     },
     "execution_count": 192,
     "metadata": {},
     "output_type": "execute_result"
    }
   ],
   "source": [
    "#Question 24\n",
    "s1={2, 3, 5, 7, 11}\n",
    "s2={23,90}\n",
    "s2.isdisjoint(s1)"
   ]
  },
  {
   "cell_type": "code",
   "execution_count": 193,
   "id": "fe75917a-f867-4779-8295-8074b325c283",
   "metadata": {},
   "outputs": [
    {
     "data": {
      "text/plain": [
       "{1, 4, 9, 16, 25}"
      ]
     },
     "execution_count": 193,
     "metadata": {},
     "output_type": "execute_result"
    }
   ],
   "source": [
    "#Question 25\n",
    "s=set(i**2 for i in range(1,6))\n",
    "s"
   ]
  },
  {
   "cell_type": "code",
   "execution_count": 194,
   "id": "083ead66-4a4e-4183-9774-4b26b0f0eab7",
   "metadata": {},
   "outputs": [
    {
     "data": {
      "text/plain": [
       "{4, 16}"
      ]
     },
     "execution_count": 194,
     "metadata": {},
     "output_type": "execute_result"
    }
   ],
   "source": [
    "#Question 26\n",
    "s = {1, 4, 9, 16, 25}\n",
    "result = filter(lambda x: x%2==0, s)\n",
    "set(result)"
   ]
  },
  {
   "cell_type": "code",
   "execution_count": 195,
   "id": "f33c6ea4-8235-4a73-acce-4ad96ca3751a",
   "metadata": {},
   "outputs": [
    {
     "data": {
      "text/plain": [
       "{2, 8, 18, 32, 50}"
      ]
     },
     "execution_count": 195,
     "metadata": {},
     "output_type": "execute_result"
    }
   ],
   "source": [
    "#Question 27\n",
    "s = {1, 4, 9, 16, 25}\n",
    "set(i*2 for i in s)"
   ]
  },
  {
   "cell_type": "code",
   "execution_count": 196,
   "id": "9eb899bb-043d-456b-9bc2-5ce2c0471e9d",
   "metadata": {},
   "outputs": [
    {
     "data": {
      "text/plain": [
       "{1, 17, 31, 50, 53, 54, 67, 73, 80, 87}"
      ]
     },
     "execution_count": 196,
     "metadata": {},
     "output_type": "execute_result"
    }
   ],
   "source": [
    "#Question 28\n",
    "import random\n",
    " \n",
    "rand_set=set()\n",
    "n=10\n",
    "for i in range(n):\n",
    "    rand_set.add(random.randint(1, 100))\n",
    "set(rand_set)"
   ]
  },
  {
   "cell_type": "code",
   "execution_count": 197,
   "id": "ea53ad36-3376-462e-b009-3821aadeae3e",
   "metadata": {},
   "outputs": [
    {
     "name": "stdout",
     "output_type": "stream",
     "text": [
      "set is not empty\n"
     ]
    }
   ],
   "source": [
    "#Question 29\n",
    "s1={14, 17, 18, 30, 48, 52, 68, 72, 76, 93}\n",
    "s2=set()\n",
    "if s1 == s2:\n",
    "    print(\"set is empty\")\n",
    "else:\n",
    "    print(\"set is not empty\")"
   ]
  },
  {
   "cell_type": "code",
   "execution_count": 198,
   "id": "8ade5588-449d-44ef-a981-1dfb77e28506",
   "metadata": {},
   "outputs": [
    {
     "data": {
      "text/plain": [
       "{14,\n",
       " 17,\n",
       " 18,\n",
       " 30,\n",
       " 48,\n",
       " 52,\n",
       " 68,\n",
       " 72,\n",
       " frozenset({22, 33, 56, 90}),\n",
       " frozenset({76, 93, 98})}"
      ]
     },
     "execution_count": 198,
     "metadata": {},
     "output_type": "execute_result"
    }
   ],
   "source": [
    "#Question 30\n",
    "s1={14, 17, 18, 30, 48, 52, 68, 72}\n",
    "s2={76,93,98}\n",
    "s3={90,56,33,22}\n",
    "s1.add(frozenset(s2))\n",
    "s1.add(frozenset(s3))\n",
    "s1"
   ]
  },
  {
   "cell_type": "code",
   "execution_count": 199,
   "id": "7fcf6d57-8054-4d76-9d2a-f3544a378ec1",
   "metadata": {},
   "outputs": [
    {
     "data": {
      "text/plain": [
       "{22, 56, 90}"
      ]
     },
     "execution_count": 199,
     "metadata": {},
     "output_type": "execute_result"
    }
   ],
   "source": [
    "#Question 31\n",
    "s3={90,56,33,22}\n",
    "s3.discard(33)\n",
    "s3"
   ]
  },
  {
   "cell_type": "code",
   "execution_count": 200,
   "id": "07f30044-b48f-4390-95d8-be5f98c80660",
   "metadata": {},
   "outputs": [
    {
     "name": "stdout",
     "output_type": "stream",
     "text": [
      "set1 is a superset of set2.\n"
     ]
    }
   ],
   "source": [
    "#Question 32\n",
    "set1={14, 17, 18, 30, 48, 52, 68, 72}\n",
    "set2={14,17,52}\n",
    "if set1 == set2:\n",
    "    print(\"The sets are equal.\")\n",
    "elif set1 <= set2:\n",
    "    print(\"set1 is a subset of set2.\")\n",
    "elif set1 < set2:\n",
    "    print(\"set1 is a proper subset of set2.\")\n",
    "elif set1 >= set2:\n",
    "    print(\"set1 is a superset of set2.\")\n",
    "elif set1 > set2:\n",
    "    print(\"set1 is a proper superset of set2.\")"
   ]
  },
  {
   "cell_type": "code",
   "execution_count": 201,
   "id": "edfdc594-b86a-4515-a4c3-b1109700de72",
   "metadata": {},
   "outputs": [
    {
     "data": {
      "text/plain": [
       "{' ', 'a', 'd', 'g', 'i', 'l', 'm', 'n', 'o', 's'}"
      ]
     },
     "execution_count": 201,
     "metadata": {},
     "output_type": "execute_result"
    }
   ],
   "source": [
    "#Question 33\n",
    "str1=\"salman is a good man\"\n",
    "set(str1)"
   ]
  },
  {
   "cell_type": "code",
   "execution_count": 202,
   "id": "30dfcb72-b191-43c2-8bf1-ba00671d6b07",
   "metadata": {},
   "outputs": [
    {
     "data": {
      "text/plain": [
       "{2, 3, 4, 89}"
      ]
     },
     "execution_count": 202,
     "metadata": {},
     "output_type": "execute_result"
    }
   ],
   "source": [
    "#Question 34\n",
    "s1={\"2\",\"3\",\"4\",\"89\"}\n",
    "s2=set()\n",
    "for i in s1:\n",
    "    s2.add(int(i))\n",
    "s2"
   ]
  },
  {
   "cell_type": "code",
   "execution_count": 203,
   "id": "50a92226-44bc-4959-ba3d-fca7e6db8a13",
   "metadata": {},
   "outputs": [
    {
     "data": {
      "text/plain": [
       "{'2', '3', '4', '89'}"
      ]
     },
     "execution_count": 203,
     "metadata": {},
     "output_type": "execute_result"
    }
   ],
   "source": [
    "#Question 35\n",
    "s1={2, 3, 4, 89}\n",
    "s2=set()\n",
    "for i in s1:\n",
    "    s2.add(str(i))\n",
    "s2"
   ]
  },
  {
   "cell_type": "code",
   "execution_count": 204,
   "id": "743b793e-931d-48d4-9232-f2680f36fb00",
   "metadata": {},
   "outputs": [
    {
     "data": {
      "text/plain": [
       "{0, 1, 2, 5, 6, 7, 89}"
      ]
     },
     "execution_count": 204,
     "metadata": {},
     "output_type": "execute_result"
    }
   ],
   "source": [
    "#Question 36\n",
    "t1 = (1,2,5,6,7,89,0)\n",
    "{i for i in t1}"
   ]
  },
  {
   "cell_type": "code",
   "execution_count": 205,
   "id": "4404d0e1-fcbe-4de4-8e9f-100233288768",
   "metadata": {},
   "outputs": [
    {
     "data": {
      "text/plain": [
       "(0, 1, 2, 5, 6, 7, 89)"
      ]
     },
     "execution_count": 205,
     "metadata": {},
     "output_type": "execute_result"
    }
   ],
   "source": [
    "#Question 37\n",
    "s1={0, 1, 2, 5, 6, 7, 89}\n",
    "tuple(i for i in s1)"
   ]
  },
  {
   "cell_type": "code",
   "execution_count": 206,
   "id": "75949b52-0552-4420-9459-9a61b91b20ee",
   "metadata": {},
   "outputs": [
    {
     "data": {
      "text/plain": [
       "89"
      ]
     },
     "execution_count": 206,
     "metadata": {},
     "output_type": "execute_result"
    }
   ],
   "source": [
    "#Question 38\n",
    "s1={0, 1, 2, 5, 6, 7, 89}\n",
    "i=max(s1)\n",
    "i"
   ]
  },
  {
   "cell_type": "code",
   "execution_count": 207,
   "id": "1ab5bfa9-bba3-45c9-9510-f925ac09e289",
   "metadata": {},
   "outputs": [
    {
     "data": {
      "text/plain": [
       "0"
      ]
     },
     "execution_count": 207,
     "metadata": {},
     "output_type": "execute_result"
    }
   ],
   "source": [
    "#Question 39\n",
    "s1={0, 1, 2, 5, 6, 7, 89}\n",
    "i=min(s1)\n",
    "i\n"
   ]
  },
  {
   "cell_type": "code",
   "execution_count": 208,
   "id": "fe703015-cb50-4102-b405-f5414053269e",
   "metadata": {},
   "outputs": [
    {
     "name": "stdin",
     "output_type": "stream",
     "text": [
      "Enter space-separated integers:  89 21 55 1 5 3\n"
     ]
    },
    {
     "name": "stdout",
     "output_type": "stream",
     "text": [
      "{1, 3, 5, 21, 55, 89}\n"
     ]
    }
   ],
   "source": [
    "#Question 40\n",
    "user_input = input('Enter space-separated integers: ')\n",
    "\n",
    "my_set = set(int(item) for item in user_input.split())\n",
    "\n",
    "print(my_set)"
   ]
  },
  {
   "cell_type": "code",
   "execution_count": 218,
   "id": "ece2911a-c8b4-4031-b0b6-a7ef02d26aee",
   "metadata": {},
   "outputs": [
    {
     "name": "stdout",
     "output_type": "stream",
     "text": [
      "no intersection element found\n"
     ]
    }
   ],
   "source": [
    "#Question 41\n",
    "s1={10, 45, 78, 23, 89}\n",
    "s2={34,90,786}\n",
    "if s1.intersection(s2)==set():\n",
    "    print(\"no intersection element found\")\n",
    "else:\n",
    "    print(\"intersetion element found\")"
   ]
  },
  {
   "cell_type": "code",
   "execution_count": 219,
   "id": "e9edc2d2-3a75-4480-9ce0-42be06c1fce9",
   "metadata": {},
   "outputs": [
    {
     "data": {
      "text/plain": [
       "{0, 1, 2, 3}"
      ]
     },
     "execution_count": 219,
     "metadata": {},
     "output_type": "execute_result"
    }
   ],
   "source": [
    "#Question 42\n",
    "s1=[0,1]\n",
    "while len(s1)!= 5 :\n",
    "    alpha=s1[-2]+s1[-1]\n",
    "    s1.append(alpha)\n",
    "set(s1)"
   ]
  },
  {
   "cell_type": "code",
   "execution_count": 220,
   "id": "03a934d0-2d31-494b-87ee-58847a239077",
   "metadata": {},
   "outputs": [
    {
     "data": {
      "text/plain": [
       "{1, 2, 3, 4, 5, 34, 67}"
      ]
     },
     "execution_count": 220,
     "metadata": {},
     "output_type": "execute_result"
    }
   ],
   "source": [
    "#Question 43\n",
    "l=[1,1,2,34,5,67,5,5,5,5,3,4,4]\n",
    "set(l)"
   ]
  },
  {
   "cell_type": "code",
   "execution_count": 221,
   "id": "eb9517f4-5651-4d2b-aa44-33e80cd31a1b",
   "metadata": {},
   "outputs": [
    {
     "name": "stdout",
     "output_type": "stream",
     "text": [
      "two sets have the same elements\n"
     ]
    }
   ],
   "source": [
    "#Question 44\n",
    "s1={1,1,2,3,4,5,3,4,6,5}\n",
    "s2={1,2,3,4,5,6}\n",
    "if s1.issubset(s2) or s1.issuperset(s2):\n",
    "    print( \"two sets have the same elements\")"
   ]
  },
  {
   "cell_type": "code",
   "execution_count": 222,
   "id": "483e481a-abbb-4f5a-8293-d97577083001",
   "metadata": {},
   "outputs": [
    {
     "data": {
      "text/plain": [
       "{1, 2, 4, 8, 16}"
      ]
     },
     "execution_count": 222,
     "metadata": {},
     "output_type": "execute_result"
    }
   ],
   "source": [
    "#Question 45\n",
    "s1 =set()\n",
    "n=5\n",
    "{2**i for i in range(5)}"
   ]
  },
  {
   "cell_type": "code",
   "execution_count": 223,
   "id": "85508e78-f0ea-4b01-8ac0-0217f25ee71e",
   "metadata": {},
   "outputs": [
    {
     "data": {
      "text/plain": [
       "{1, 2, 3, 4, 5, 6}"
      ]
     },
     "execution_count": 223,
     "metadata": {},
     "output_type": "execute_result"
    }
   ],
   "source": [
    "#Question 46\n",
    "s1={1,1,2,3,4,5,3,4,6,5}\n",
    "l2=[1,1,2,3,4,5,6]\n",
    "s1.intersection(l2)"
   ]
  },
  {
   "cell_type": "code",
   "execution_count": 224,
   "id": "0d3e8139-7c10-4c6f-8b00-89917893af05",
   "metadata": {},
   "outputs": [
    {
     "data": {
      "text/plain": [
       "{0, 1, 3, 6, 10, 15, 21, 28, 36, 45}"
      ]
     },
     "execution_count": 224,
     "metadata": {},
     "output_type": "execute_result"
    }
   ],
   "source": [
    "#Question 47\n",
    "s1=[0]\n",
    "n=10\n",
    "for i in range (1,n):\n",
    "    s1.append(s1[-1]+i)\n",
    "set(s1)"
   ]
  },
  {
   "cell_type": "code",
   "execution_count": 225,
   "id": "8948d277-ddcf-4992-a3bc-a1bf4c0f7e24",
   "metadata": {},
   "outputs": [
    {
     "data": {
      "text/plain": [
       "True"
      ]
     },
     "execution_count": 225,
     "metadata": {},
     "output_type": "execute_result"
    }
   ],
   "source": [
    "#Question 48\n",
    "s1={0, 1, 3, 6, 10, 15, 21, 28, 36, 45}\n",
    "s2={36,45}\n",
    "s2.issubset(s1)"
   ]
  },
  {
   "cell_type": "code",
   "execution_count": 226,
   "id": "adad9fed-337a-4d4f-aebf-9f342554c1a3",
   "metadata": {},
   "outputs": [
    {
     "data": {
      "text/plain": [
       "{0, 1}"
      ]
     },
     "execution_count": 226,
     "metadata": {},
     "output_type": "execute_result"
    }
   ],
   "source": [
    "#Question 49\n",
    "n=10\n",
    "s1 =set({1 if i%2==0 else 0 for i in range(10)})\n",
    "s1 # set doesn't allow duplicates hence only 1 time 0 and 1 can be in output."
   ]
  },
  {
   "cell_type": "code",
   "execution_count": 227,
   "id": "18029260-15a4-402d-80f8-55f27dbe2bdb",
   "metadata": {},
   "outputs": [
    {
     "data": {
      "text/plain": [
       "{0, 1, 3, 6, 10, 15, 21, 28, 36, 45, 63, 67, 78, 89, 90}"
      ]
     },
     "execution_count": 227,
     "metadata": {},
     "output_type": "execute_result"
    }
   ],
   "source": [
    "#Question 50\n",
    "s1={0, 1, 3, 6, 10, 15, 21, 28, 36, 45}\n",
    "s2={45,89,67}\n",
    "s3={90,89,78,63}\n",
    "s1.union(s2,s3)"
   ]
  }
 ],
 "metadata": {
  "kernelspec": {
   "display_name": "Python 3 (ipykernel)",
   "language": "python",
   "name": "python3"
  },
  "language_info": {
   "codemirror_mode": {
    "name": "ipython",
    "version": 3
   },
   "file_extension": ".py",
   "mimetype": "text/x-python",
   "name": "python",
   "nbconvert_exporter": "python",
   "pygments_lexer": "ipython3",
   "version": "3.10.8"
  }
 },
 "nbformat": 4,
 "nbformat_minor": 5
}
