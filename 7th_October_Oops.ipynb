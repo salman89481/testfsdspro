{
 "cells": [
  {
   "cell_type": "markdown",
   "id": "387113a1-6dfa-45b7-b4c1-9f11c89a6112",
   "metadata": {},
   "source": [
    "Problem 1: Bank Account Create a class representing a bank account with attributes like account number, account holder name, and balance. Implement methods to deposit and withdraw money from the account."
   ]
  },
  {
   "cell_type": "code",
   "execution_count": 14,
   "id": "3d4f4ee1-a134-44a5-a9c9-df26eff6bc40",
   "metadata": {},
   "outputs": [],
   "source": [
    "class Bank_Account:\n",
    "    def __init__(self, name,account_number,balance):\n",
    "        self.name = name\n",
    "        self.account_number = account_number\n",
    "        self.balance = balance\n",
    "    def deposit(self,deposits):\n",
    "        print(f\"Mr {self.name} your account {self.account_number} has been credited with amt {deposits}.New balance is {self.balance+deposits}\")\n",
    "    def withdraw(self,withdraw_amt):\n",
    "        if self.balance>withdraw_amt:\n",
    "            print(f\"Mr {self.name} your account {self.account_number} has been debited with amt{withdraw_amt}.New balance is{self.balance-withdraw_amt}\")\n",
    "        else:\n",
    "            print(f\"Insufficient balance \")\n",
    "                  "
   ]
  },
  {
   "cell_type": "code",
   "execution_count": 15,
   "id": "7d165987-5512-4378-9bda-408f8d95d601",
   "metadata": {},
   "outputs": [],
   "source": [
    "salman = Bank_Account(\"Salman Ahmad\",45164500,890)"
   ]
  },
  {
   "cell_type": "code",
   "execution_count": 16,
   "id": "023e2462-7b3a-4864-a3bf-51a4defbe625",
   "metadata": {},
   "outputs": [
    {
     "name": "stdout",
     "output_type": "stream",
     "text": [
      "Mr Salman Ahmad your account 45164500 has been credited with amt 1000.New balance is 1890\n"
     ]
    }
   ],
   "source": [
    "salman.deposit(1000)"
   ]
  },
  {
   "cell_type": "markdown",
   "id": "251d2193-9ba9-46be-a393-335e074c386c",
   "metadata": {},
   "source": [
    "Problem 2: Employee Management Create a class representing an employee with attributes like employee ID, name, and salary. Implement methods to calculate the yearly bonus and display employee details."
   ]
  },
  {
   "cell_type": "code",
   "execution_count": 29,
   "id": "2bbdff89-7dbe-4158-b58d-69eee1e30113",
   "metadata": {},
   "outputs": [],
   "source": [
    "class Employee_management:\n",
    "    def __init__(self,Employee_ID,name,salary):\n",
    "        self.Employee_Id = Employee_ID\n",
    "        self.name = name\n",
    "        self.salary = salary\n",
    "    def yearly_bonus(self):\n",
    "        print(f\"{self.name} your yearly bonus is ${(self.salary*30)/100} \")\n",
    "    def employee_details(self):\n",
    "        print(f\"Employee ID: {self.Employee_Id}\")\n",
    "        print(f\"Name: {self.name}\")\n",
    "        print(f\"Salary: ${self.salary}\")"
   ]
  },
  {
   "cell_type": "code",
   "execution_count": 30,
   "id": "1e14b396-690f-45fb-9530-ee3d03c6d31a",
   "metadata": {},
   "outputs": [],
   "source": [
    "salman=Employee_management(7847,\"Salman Ahmad\",80000)"
   ]
  },
  {
   "cell_type": "code",
   "execution_count": 22,
   "id": "57627188-0447-4e50-b272-74fe09f5090d",
   "metadata": {},
   "outputs": [
    {
     "name": "stdout",
     "output_type": "stream",
     "text": [
      "Employee ID: 7847\n",
      "Name: Salman Ahmad\n",
      "Salary: $80000\n"
     ]
    }
   ],
   "source": [
    "salman.employee_details()"
   ]
  },
  {
   "cell_type": "code",
   "execution_count": 31,
   "id": "aeb5ae85-7234-48ec-a5de-acb12a5e1deb",
   "metadata": {},
   "outputs": [
    {
     "name": "stdout",
     "output_type": "stream",
     "text": [
      "Salman Ahmad your yearly bonus is $24000.0 \n"
     ]
    }
   ],
   "source": [
    "salman.yearly_bonus()"
   ]
  },
  {
   "cell_type": "markdown",
   "id": "5d31c860-166e-4619-a885-f4136e9942b8",
   "metadata": {},
   "source": [
    "Problem 3: Vehicle Rental Create a class representing a vehicle rental system. Implement methods to rent a vehicle, return a vehicle, and display available vehicles."
   ]
  },
  {
   "cell_type": "code",
   "execution_count": 70,
   "id": "660d7392-a84b-49d2-9baa-30dfbf18bda2",
   "metadata": {},
   "outputs": [],
   "source": [
    "class Vehicle_Rental:\n",
    "    def __init__(self):\n",
    "        self.total_vehicle = 10\n",
    "    def rent(self,rented_vehicle):\n",
    "        if self.total_vehicle>=rented_vehicle:\n",
    "            self.total_vehicle-=rented_vehicle\n",
    "            print(f\"{rented_vehicle} vehicles are issued .\")\n",
    "        else:\n",
    "            print(f\"only {self.total_vehicle} are available.\")\n",
    "    def returned(self,returned_vehicles):\n",
    "        self.total_vehicle+=returned_vehicles\n",
    "        print(f\"{returned_vehicles} are returned\")"
   ]
  },
  {
   "cell_type": "code",
   "execution_count": 85,
   "id": "08b04db1-30ff-4f3f-bdbb-15d92fafcaca",
   "metadata": {},
   "outputs": [],
   "source": [
    "user1 = Vehicle_Rental()"
   ]
  },
  {
   "cell_type": "code",
   "execution_count": 86,
   "id": "51c504c2-2069-4ee8-8631-ae2171649066",
   "metadata": {},
   "outputs": [],
   "source": [
    "user2 = Vehicle_Rental()"
   ]
  },
  {
   "cell_type": "code",
   "execution_count": 87,
   "id": "442e1b79-b00b-4fab-9e48-7becfe617d95",
   "metadata": {},
   "outputs": [
    {
     "name": "stdout",
     "output_type": "stream",
     "text": [
      "3 vehicles are issued .\n"
     ]
    }
   ],
   "source": [
    "user1.rent(3)"
   ]
  },
  {
   "cell_type": "code",
   "execution_count": 88,
   "id": "a63139fc-b420-4f51-aeab-c8de44f03403",
   "metadata": {},
   "outputs": [
    {
     "name": "stdout",
     "output_type": "stream",
     "text": [
      "7 vehicles are issued .\n"
     ]
    }
   ],
   "source": [
    "user2.rent(7)"
   ]
  },
  {
   "cell_type": "code",
   "execution_count": 89,
   "id": "aa9fe489-cd1d-4ca3-8b43-52de07bc625e",
   "metadata": {},
   "outputs": [
    {
     "name": "stdout",
     "output_type": "stream",
     "text": [
      "2 vehicles are issued .\n"
     ]
    }
   ],
   "source": [
    "user1.rent(2)"
   ]
  },
  {
   "cell_type": "code",
   "execution_count": 90,
   "id": "a369f63f-ab55-4e91-9d31-2da77af573c6",
   "metadata": {},
   "outputs": [
    {
     "name": "stdout",
     "output_type": "stream",
     "text": [
      "4 are returned\n"
     ]
    }
   ],
   "source": [
    "user2.returned(4)"
   ]
  },
  {
   "cell_type": "code",
   "execution_count": 91,
   "id": "2042ebb2-9398-4208-81ff-1d5f33ba745e",
   "metadata": {},
   "outputs": [
    {
     "name": "stdout",
     "output_type": "stream",
     "text": [
      "4 vehicles are issued .\n"
     ]
    }
   ],
   "source": [
    "user1.rent(4)"
   ]
  },
  {
   "cell_type": "code",
   "execution_count": 93,
   "id": "80fe2864-7c83-45fa-9142-a8bd85b4932d",
   "metadata": {},
   "outputs": [
    {
     "name": "stdout",
     "output_type": "stream",
     "text": [
      "only 2 are available.\n"
     ]
    }
   ],
   "source": [
    "user2.rent(5)"
   ]
  },
  {
   "cell_type": "markdown",
   "id": "b5e7166a-d671-413f-af7b-43a2a39692cf",
   "metadata": {},
   "source": [
    "Problem 4: Library Catalog Create classes representing a library and a book. Implement methods to add books to the library, borrow books, and display available books."
   ]
  },
  {
   "cell_type": "code",
   "execution_count": 142,
   "id": "2b51e5b4-9b35-446b-83c1-3a7012b8b964",
   "metadata": {},
   "outputs": [],
   "source": [
    "class books:\n",
    "    def __init__ (self,author,title,book_id):\n",
    "        self.author = author\n",
    "        self.title = title\n",
    "        self.book_id = book_id\n",
    "        self.is_available = True\n",
    "class library:\n",
    "    def __init__(self):\n",
    "        self.books= []\n",
    "    def add_books(self,author, title, book_id):\n",
    "        new_book = books(author, title, book_id)\n",
    "        self.books.append(new_book)\n",
    "        print(f\"Book '{title}' by {author} added to the library.\")\n",
    "    def borrow_book(self , book_id):\n",
    "        for book in self.books:\n",
    "            if book.book_id == book_id and book.is_available:\n",
    "                book.is_available = False\n",
    "                print(f\"Book '{book.title}' by {book.author} (ID: {book.book_id}) has been borrowed.\")\n",
    "                return \n",
    "        print(f\"Book with ID {book_id} not found or not available for borrowing.\")\n",
    "    def display_available_books(self):\n",
    "        available_books = [book for book in self.books if book.is_available]\n",
    "        if available_books:\n",
    "            print(\"Available Books in the Library:\")\n",
    "            for book in available_books:\n",
    "                print(f\"- {book.title} by {book.author} (ID: {book.book_id})\")\n",
    "        else:\n",
    "            print(\"No books available in the library.\")"
   ]
  },
  {
   "cell_type": "code",
   "execution_count": 143,
   "id": "5d3f66c3-e4bd-40b1-a0e5-b47a52702c47",
   "metadata": {},
   "outputs": [],
   "source": [
    "Library =library()"
   ]
  },
  {
   "cell_type": "code",
   "execution_count": 144,
   "id": "0b2b6079-2064-48bc-ac58-6d6dd65b6ef5",
   "metadata": {},
   "outputs": [
    {
     "name": "stdout",
     "output_type": "stream",
     "text": [
      "Book 'F. Scott Fitzgerald' by The Great Gatsby added to the library.\n",
      "Book 'Harper Lee' by To Kill a Mockingbird added to the library.\n",
      "Book 'George Orwell' by 1984 added to the library.\n"
     ]
    }
   ],
   "source": [
    "Library.add_books(\"The Great Gatsby\", \"F. Scott Fitzgerald\", 1)\n",
    "Library.add_books(\"To Kill a Mockingbird\", \"Harper Lee\", 2)\n",
    "Library.add_books(\"1984\", \"George Orwell\", 3)"
   ]
  },
  {
   "cell_type": "code",
   "execution_count": 145,
   "id": "8119c647-9c98-4e88-ae6b-f6e865c3db67",
   "metadata": {},
   "outputs": [
    {
     "name": "stdout",
     "output_type": "stream",
     "text": [
      "Available Books in the Library:\n",
      "- F. Scott Fitzgerald by The Great Gatsby (ID: 1)\n",
      "- Harper Lee by To Kill a Mockingbird (ID: 2)\n",
      "- George Orwell by 1984 (ID: 3)\n"
     ]
    }
   ],
   "source": [
    "Library.display_available_books()"
   ]
  },
  {
   "cell_type": "code",
   "execution_count": 146,
   "id": "2108a134-53e5-42b1-8bc2-f476f0344069",
   "metadata": {},
   "outputs": [
    {
     "name": "stdout",
     "output_type": "stream",
     "text": [
      "Book 'Harper Lee' by To Kill a Mockingbird (ID: 2) has been borrowed.\n"
     ]
    }
   ],
   "source": [
    "Library.borrow_book(2)"
   ]
  },
  {
   "cell_type": "code",
   "execution_count": 147,
   "id": "86754440-6e76-41a0-ae74-707fd2baa6c8",
   "metadata": {},
   "outputs": [
    {
     "name": "stdout",
     "output_type": "stream",
     "text": [
      "Available Books in the Library:\n",
      "- F. Scott Fitzgerald by The Great Gatsby (ID: 1)\n",
      "- George Orwell by 1984 (ID: 3)\n"
     ]
    }
   ],
   "source": [
    "Library.display_available_books()"
   ]
  },
  {
   "cell_type": "markdown",
   "id": "32b2a727-6bfd-4b20-b1d9-cdffab6ab4dc",
   "metadata": {},
   "source": [
    "Problem 5: Product Inventory Create classes representing a product and an inventory system. Implement methods to add products to the inventory, update product quantity, and display available products."
   ]
  },
  {
   "cell_type": "code",
   "execution_count": 165,
   "id": "d6e5f85c-03cb-41b1-add1-a585eda55d5a",
   "metadata": {},
   "outputs": [],
   "source": [
    "class product:\n",
    "    def __init__(self,product_name,product_id,price,quantity):\n",
    "        self.product_name = product_name\n",
    "        self.product_id = product_id\n",
    "        self.quantity = quantity\n",
    "        self.price =price\n",
    "class Inventory:\n",
    "    def __init__(self):\n",
    "        self.new_products =[]\n",
    "    def add_product(self,product_name,product_id,price,quantity):\n",
    "        new_product =product(product_name,product_id,price,quantity)\n",
    "        self.new_products.append(new_product)\n",
    "        print(f\"{product_name} is added to inventory. ID {product_id} and quantity {quantity}\")\n",
    "    def update_quantity(self,product_id,quantity):\n",
    "        for product in self.new_products:\n",
    "            if product.product_id == product_id:\n",
    "                product.quantity += quantity\n",
    "                print(f\"Quantity of product '{product.product_name}' (ID: {product.product_id}) updated to {product.quantity}.\")\n",
    "                return\n",
    "        print(f\"Product with ID {product_id} not found in the inventory.\")\n",
    "    def display_available_products(self):\n",
    "        for product in self.new_products :\n",
    "             print(f\"- {product.product_name} (ID: {product.product_id}), Price: ${product.price}, Quantity: {product.quantity}\")"
   ]
  },
  {
   "cell_type": "code",
   "execution_count": 166,
   "id": "6bc3a830-be40-49aa-ae62-d5f1bd1f123e",
   "metadata": {},
   "outputs": [],
   "source": [
    "inventory_system = Inventory()"
   ]
  },
  {
   "cell_type": "code",
   "execution_count": 167,
   "id": "4f164e03-862d-4ec5-8dce-58007aad223d",
   "metadata": {},
   "outputs": [
    {
     "name": "stdout",
     "output_type": "stream",
     "text": [
      "Laptop is added to inventory. ID 1 and quantity 10\n",
      "Smartphone is added to inventory. ID 2 and quantity 15\n",
      "Headphones is added to inventory. ID 3 and quantity 50\n"
     ]
    }
   ],
   "source": [
    "inventory_system.add_product(\"Laptop\", 1,1200.0, 10)\n",
    "inventory_system.add_product( \"Smartphone\",2, 800.0, 15)\n",
    "inventory_system.add_product( \"Headphones\",3, 50.0, 50)"
   ]
  },
  {
   "cell_type": "code",
   "execution_count": 168,
   "id": "5b5dd108-31e0-4b26-9ede-7e4555613eb3",
   "metadata": {},
   "outputs": [
    {
     "name": "stdout",
     "output_type": "stream",
     "text": [
      "Quantity of product 'Smartphone' (ID: 2) updated to 25.\n"
     ]
    }
   ],
   "source": [
    "inventory_system.update_quantity(2,10)"
   ]
  },
  {
   "cell_type": "code",
   "execution_count": 169,
   "id": "b0b2b07a-1684-4761-b203-2601f559c656",
   "metadata": {},
   "outputs": [
    {
     "name": "stdout",
     "output_type": "stream",
     "text": [
      "- Laptop (ID: 1), Price: $1200.0, Quantity: 10\n",
      "- Smartphone (ID: 2), Price: $800.0, Quantity: 25\n",
      "- Headphones (ID: 3), Price: $50.0, Quantity: 50\n"
     ]
    }
   ],
   "source": [
    "inventory_system.display_available_products()"
   ]
  },
  {
   "cell_type": "markdown",
   "id": "93027ef4-8cfa-4eb5-915a-70ab66a67501",
   "metadata": {},
   "source": [
    "Problem 6: Shape Calculation Create a class representing a shape with attributes like length, width, and height. Implement methods to calculate the area and perimeter of the shape."
   ]
  },
  {
   "cell_type": "code",
   "execution_count": 5,
   "id": "62d8d02b-e36e-4804-bf0c-6919d1fb1bff",
   "metadata": {},
   "outputs": [],
   "source": [
    "class shape:\n",
    "    def __init__(self , length , width = None , height = None):\n",
    "        self.length = length\n",
    "        self.width = width\n",
    "        self.height = height\n",
    "    def calculate_area(self):\n",
    "        raise NotImplementedError\n",
    "    def calculate_perimeter(self):\n",
    "        raise NotImplementedError\n",
    "\n",
    "class rectangle(shape):\n",
    "    def calculate_area(self):\n",
    "        return self.length * self.width\n",
    "    def calculate_perimeter(self):\n",
    "        return 2 * (self.length + self.width)\n",
    "class square(rectangle):\n",
    "    def __init__(self , side_length):\n",
    "        super().__init__(length = side_length ,width = side_length)\n",
    "class circle(shape):\n",
    "    def __init__(self,radius):\n",
    "        super().__init__(length = radius)\n",
    "    def calculate_area(self):\n",
    "        import math\n",
    "        return math.pi**self.length**2\n",
    "    def calculate_perimeter(self):\n",
    "        import math\n",
    "        return 2*math.pi*self.length"
   ]
  },
  {
   "cell_type": "code",
   "execution_count": 7,
   "id": "2a359152-d017-44e2-9b19-94c5affb1f63",
   "metadata": {},
   "outputs": [
    {
     "name": "stdout",
     "output_type": "stream",
     "text": [
      "Rectangle Area: 15\n",
      "Rectangle Perimeter: 16\n"
     ]
    }
   ],
   "source": [
    "rectangle = rectangle(length=5, width=3)\n",
    "print(\"Rectangle Area:\", rectangle.calculate_area())\n",
    "print(\"Rectangle Perimeter:\", rectangle.calculate_perimeter())"
   ]
  },
  {
   "cell_type": "code",
   "execution_count": 9,
   "id": "d02f3332-456a-41e7-9de9-4775810bebe3",
   "metadata": {},
   "outputs": [
    {
     "name": "stdout",
     "output_type": "stream",
     "text": [
      "Square Area: 16\n",
      "Square Perimeter: 16\n"
     ]
    }
   ],
   "source": [
    "square = square(side_length=4)\n",
    "print(\"Square Area:\", square.calculate_area())\n",
    "print(\"Square Perimeter:\", square.calculate_perimeter())"
   ]
  },
  {
   "cell_type": "code",
   "execution_count": 11,
   "id": "798423a9-2e87-4e9e-bd1a-27d8bec9101b",
   "metadata": {},
   "outputs": [
    {
     "name": "stdout",
     "output_type": "stream",
     "text": [
      "Circle Area: 2.2926816869416653e+24\n",
      "Circle Circumference: 43.982297150257104\n"
     ]
    }
   ],
   "source": [
    "circle = circle(radius=7)\n",
    "print(\"Circle Area:\", circle.calculate_area())\n",
    "print(\"Circle Circumference:\", circle.calculate_perimeter())"
   ]
  },
  {
   "cell_type": "markdown",
   "id": "c4555051-0818-4245-99aa-50e1d9080321",
   "metadata": {},
   "source": [
    "Problem 7: Student Management Create a class representing a student with attributes like student ID, name, and grades. Implement methods to calculate the average grade and display student details."
   ]
  },
  {
   "cell_type": "code",
   "execution_count": 29,
   "id": "f4039d89-0733-43b1-a133-7200491ef5b2",
   "metadata": {},
   "outputs": [],
   "source": [
    "class Student_Management:\n",
    "    def __init__(self,student_ID,name,grades):\n",
    "        self.student_ID = student_ID\n",
    "        self.name = name\n",
    "        self.grades = grades\n",
    "        \n",
    "    def calculate_avg_grade(self):\n",
    "        if not self.grades:\n",
    "            return 0\n",
    "        total_grades = sum(self.grades)\n",
    "        return total_grades/len(self.grades)\n",
    "    \n",
    "    def display_student_details(self):\n",
    "        print(f\"Sudent ID : {self.student_ID}\")\n",
    "        print(f\"Name : {self.name}\")\n",
    "        print(f\"Grades : {','.join(map(str , self.grades))}\")\n",
    "        print(f\"Avearge Grades : {self.calculate_avg_grade():.2f}\")"
   ]
  },
  {
   "cell_type": "code",
   "execution_count": 30,
   "id": "4aef37b8-ac98-4812-9568-3078a5e31136",
   "metadata": {},
   "outputs": [],
   "source": [
    "student1 = Student_Management(student_ID=\"S001\", name=\"Alice\", grades=[85, 90, 92, 88, 95])"
   ]
  },
  {
   "cell_type": "code",
   "execution_count": 31,
   "id": "2049da74-d003-4730-9d8b-e4aec0da16a6",
   "metadata": {},
   "outputs": [],
   "source": [
    "student2 = Student_Management(student_ID=\"S002\", name=\"Bob\", grades=[78, 85, 88, 92, 80])"
   ]
  },
  {
   "cell_type": "code",
   "execution_count": 32,
   "id": "2c9948c8-cadf-480e-b61a-985ca2725ded",
   "metadata": {},
   "outputs": [
    {
     "name": "stdout",
     "output_type": "stream",
     "text": [
      "Sudent ID : S001\n",
      "Name : Alice\n",
      "Grades : 85,90,92,88,95\n",
      "Avearge Grades : 90.00\n",
      "\n",
      "Sudent ID : S002\n",
      "Name : Bob\n",
      "Grades : 78,85,88,92,80\n",
      "Avearge Grades : 84.60\n"
     ]
    }
   ],
   "source": [
    "student1.display_student_details()\n",
    "print() \n",
    "student2.display_student_details()"
   ]
  },
  {
   "cell_type": "markdown",
   "id": "6ce25517-7bad-48e5-9521-3e75456419a7",
   "metadata": {},
   "source": [
    "Problem 8: Email Management Create a class representing an email with attributes like sender, recipient, and subject. Implement methods to send an email and display email details."
   ]
  },
  {
   "cell_type": "code",
   "execution_count": 39,
   "id": "e2a0596d-6104-4179-bb91-34734611be6e",
   "metadata": {},
   "outputs": [],
   "source": [
    "class Email:\n",
    "    def __init__(self,sender,recipient,subject,body):\n",
    "        self.sender = sender\n",
    "        self.recipient = recipient\n",
    "        self.subject = subject\n",
    "        self.body = body\n",
    "        self.sent = False\n",
    "    def send_email(self):\n",
    "        print(f\"Email sent from {self.sender} to {self.recipient} with subject '{self.subject}'.\")\n",
    "        self.sent = True\n",
    "    def display_email_details(self):\n",
    "        print(\"Email Details : \")\n",
    "        print(f\"Sender : {self.sender}\")\n",
    "        print(f\"Recipient : {self.recipient}\")\n",
    "        print(f\"Subject : {self.subject}\")\n",
    "        print(f\"Body : \")\n",
    "        print(self.body)\n",
    "        print(\"Status: Sent\" if self.sent else \"Status: Draft\")"
   ]
  },
  {
   "cell_type": "code",
   "execution_count": 40,
   "id": "6ab26c13-ad7b-4649-b09c-1bd308f72ad1",
   "metadata": {},
   "outputs": [],
   "source": [
    "email1 = Email(sender=\"john.doe@example.com\", recipient=\"jane.smith@example.com\", subject=\"Meeting Tomorrow\", body=\"Hi Jane, let's meet tomorrow at 10 AM.\")"
   ]
  },
  {
   "cell_type": "code",
   "execution_count": 41,
   "id": "82b58121-6bd0-4cce-a6a8-cba6102d3e1a",
   "metadata": {},
   "outputs": [],
   "source": [
    "email2 = Email(sender=\"mary.jane@example.com\", recipient=\"peter.parker@example.com\", subject=\"Project Update\", body=\"Hi Peter, here's the latest project update.\")"
   ]
  },
  {
   "cell_type": "code",
   "execution_count": 42,
   "id": "57d5046d-fe83-4e17-90b9-ec22eb6739ae",
   "metadata": {},
   "outputs": [
    {
     "name": "stdout",
     "output_type": "stream",
     "text": [
      "Email Details : \n",
      "Sender : john.doe@example.com\n",
      "Recipient : jane.smith@example.com\n",
      "Subject : Meeting Tomorrow\n",
      "Body : \n",
      "Hi Jane, let's meet tomorrow at 10 AM.\n",
      "Status: Draft\n",
      "\n",
      "Email sent from john.doe@example.com to jane.smith@example.com with subject 'Meeting Tomorrow'.\n",
      "\n",
      "Email Details : \n",
      "Sender : john.doe@example.com\n",
      "Recipient : jane.smith@example.com\n",
      "Subject : Meeting Tomorrow\n",
      "Body : \n",
      "Hi Jane, let's meet tomorrow at 10 AM.\n",
      "Status: Sent\n",
      "\n",
      "Email Details : \n",
      "Sender : mary.jane@example.com\n",
      "Recipient : peter.parker@example.com\n",
      "Subject : Project Update\n",
      "Body : \n",
      "Hi Peter, here's the latest project update.\n",
      "Status: Draft\n"
     ]
    }
   ],
   "source": [
    "email1.display_email_details()\n",
    "print() \n",
    "\n",
    "email1.send_email()\n",
    "print()\n",
    "\n",
    "email1.display_email_details() \n",
    "print()  \n",
    "\n",
    "email2.display_email_details() "
   ]
  },
  {
   "cell_type": "markdown",
   "id": "654ad343-8da7-4028-9360-50b3d5fe6c4d",
   "metadata": {},
   "source": [
    "#Problem 9: Social Media Profile Create a class representing a social media profile with attributes like username and posts. Implement methods to add posts, display posts, and search for posts by keyword."
   ]
  },
  {
   "cell_type": "code",
   "execution_count": 52,
   "id": "14fd47c5-9f1e-48d4-88f1-f39572cd1283",
   "metadata": {},
   "outputs": [],
   "source": [
    "class Social_Media:\n",
    "    def __init__(self,username):\n",
    "        self.username = username\n",
    "        self.posts = []\n",
    "    def add_posts(self,post_content):\n",
    "        self.posts.append(post_content)\n",
    "        print(f\"New post added to {self.username}'s profile: {post_content}\")\n",
    "    def display_post(self):\n",
    "        print(f\"Posts from {self.username}'s profile:\")\n",
    "        for index,post in enumerate(self.posts ,start=1):\n",
    "            print(f\"{index}. {post}\")\n",
    "            if not self.posts:\n",
    "                print(f\"No Posts available\")\n",
    "    def search_posts_by_keyword(self, keyword):\n",
    "        matched_post = [post for post in self.posts if keyword.lower() in post.lower()]\n",
    "        if matched_post:\n",
    "            print(f\"Posts from {self.username}'s profile containing '{keyword}':\")\n",
    "            for index,post in enumerate(matched_post,start=1):\n",
    "                print(f\"{index}. {post}\")\n",
    "        else:\n",
    "            print(f\"No posts from {self.username}'s profile contain the keyword '{keyword}'.\")\n",
    "            "
   ]
  },
  {
   "cell_type": "code",
   "execution_count": 53,
   "id": "cbfb084e-d847-49ea-94b5-f89160d412c7",
   "metadata": {},
   "outputs": [],
   "source": [
    "profile1 = Social_Media(username=\"salman_ahmad\")\n",
    "profile2 = Social_Media(username=\"Virat_Kohli\")"
   ]
  },
  {
   "cell_type": "code",
   "execution_count": 54,
   "id": "725873f9-2a22-4f1c-b7a4-2c835544c120",
   "metadata": {},
   "outputs": [
    {
     "name": "stdout",
     "output_type": "stream",
     "text": [
      "New post added to salman_ahmad's profile: Excited for the weekend! #FridayFeeling\n",
      "New post added to salman_ahmad's profile: Just finished reading a great book. Highly recommend!\n"
     ]
    }
   ],
   "source": [
    "profile1.add_posts(\"Excited for the weekend! #FridayFeeling\")\n",
    "profile1.add_posts(\"Just finished reading a great book. Highly recommend!\")"
   ]
  },
  {
   "cell_type": "code",
   "execution_count": 55,
   "id": "392720d4-c0eb-477d-a31a-ef5127143c11",
   "metadata": {},
   "outputs": [
    {
     "name": "stdout",
     "output_type": "stream",
     "text": [
      "New post added to Virat_Kohli's profile: New recipe experiment in the kitchen today. Can't wait to taste it!\n",
      "New post added to Virat_Kohli's profile: Enjoying the sunset at the beach. #NatureLover\n"
     ]
    }
   ],
   "source": [
    "profile2.add_posts(\"New recipe experiment in the kitchen today. Can't wait to taste it!\")\n",
    "profile2.add_posts(\"Enjoying the sunset at the beach. #NatureLover\")"
   ]
  },
  {
   "cell_type": "code",
   "execution_count": 57,
   "id": "7b74cee2-750a-43f1-aac5-d61095bf0e25",
   "metadata": {},
   "outputs": [
    {
     "name": "stdout",
     "output_type": "stream",
     "text": [
      "Posts from salman_ahmad's profile:\n",
      "1. Excited for the weekend! #FridayFeeling\n",
      "2. Just finished reading a great book. Highly recommend!\n",
      "\n",
      "Posts from Virat_Kohli's profile:\n",
      "1. New recipe experiment in the kitchen today. Can't wait to taste it!\n",
      "2. Enjoying the sunset at the beach. #NatureLover\n",
      "\n",
      "Posts from salman_ahmad's profile containing 'book':\n",
      "1. Just finished reading a great book. Highly recommend!\n",
      "\n",
      "Posts from Virat_Kohli's profile containing 'NatureLover':\n",
      "1. Enjoying the sunset at the beach. #NatureLover\n"
     ]
    }
   ],
   "source": [
    "profile1.display_post()\n",
    "print() \n",
    "profile2.display_post()\n",
    "print() \n",
    "\n",
    "# Search for posts by keyword\n",
    "profile1.search_posts_by_keyword(\"book\")\n",
    "print()  \n",
    "profile2.search_posts_by_keyword(\"NatureLover\")"
   ]
  },
  {
   "cell_type": "markdown",
   "id": "4a6d0cf3-2bbe-4d06-b6da-eb6d92a3c6c6",
   "metadata": {},
   "source": [
    "Problem 10: ToDo List Create a class representing a ToDo list with attributes like tasks and due dates. Implement methods to add tasks, mark tasks as completed, and display pending tasks."
   ]
  },
  {
   "cell_type": "code",
   "execution_count": 15,
   "id": "8402c0df-c3e3-446d-b811-c3f86283605b",
   "metadata": {},
   "outputs": [],
   "source": [
    "class ToDo_list:\n",
    "    def __init__(self):\n",
    "        self.tasks = []\n",
    "    def add_tasks(self,task,due_date):\n",
    "        self.tasks.append({\"task\": task ,\"due_date\":due_date,\"completed\":False})\n",
    "        print(f\"New task added :{task} (due_date :{due_date})\")\n",
    "    def mark_test_as_completed(self,task_index):\n",
    "        if 0<=task_index<len(self.tasks):\n",
    "            self.tasks[task_index][\"completed\"]=True\n",
    "            print(f\"Task '{self.tasks[task_index]['task']}' marked as completed.\")\n",
    "        else:\n",
    "            print(\"Invalid task index\")\n",
    "    def display_pending_tasks(self):\n",
    "        pending_tasks = [task for task in self.tasks if not task[\"completed\"]]\n",
    "        if pending_tasks:\n",
    "            print(\"pending task : \")\n",
    "            for index,task in enumerate(pending_tasks ,start=1):\n",
    "                print(f\"{index}. Task : {task['task']} Due Date : {task['due_date']}\")\n",
    "        else:\n",
    "            print(\"No pending task\")\n",
    "            \n",
    "            \n",
    "            "
   ]
  },
  {
   "cell_type": "code",
   "execution_count": 16,
   "id": "4681112b-a11a-4b50-80c6-04b66a019474",
   "metadata": {},
   "outputs": [],
   "source": [
    "todo_list = ToDo_list()"
   ]
  },
  {
   "cell_type": "code",
   "execution_count": 17,
   "id": "213b7f8d-351b-496f-bc4e-17caf26fc75d",
   "metadata": {},
   "outputs": [
    {
     "name": "stdout",
     "output_type": "stream",
     "text": [
      "New task added :complete Assignment of oops (due_date :19-11-23)\n",
      "New task added :to watch oops video of abstraction and all (due_date :19-11-23)\n",
      "New task added :Buy groceries (due_date :2-12-23)\n"
     ]
    }
   ],
   "source": [
    "todo_list.add_tasks(\"complete Assignment of oops\",\"19-11-23\")\n",
    "todo_list.add_tasks(\"to watch oops video of abstraction and all\",\"19-11-23\")\n",
    "todo_list.add_tasks(\"Buy groceries\", \"2-12-23\")"
   ]
  },
  {
   "cell_type": "code",
   "execution_count": 18,
   "id": "a5d3fbde-494d-47e0-ad25-9f6f0a0d9817",
   "metadata": {},
   "outputs": [
    {
     "name": "stdout",
     "output_type": "stream",
     "text": [
      "Task 'Buy groceries' marked as completed.\n"
     ]
    }
   ],
   "source": [
    "todo_list.mark_test_as_completed(2)"
   ]
  },
  {
   "cell_type": "code",
   "execution_count": 19,
   "id": "b72684eb-1eb1-4b8e-b4af-55135cec80bc",
   "metadata": {},
   "outputs": [
    {
     "name": "stdout",
     "output_type": "stream",
     "text": [
      "pending task : \n",
      "1. Task : complete Assignment of oops Due Date : 19-11-23\n",
      "2. Task : to watch oops video of abstraction and all Due Date : 19-11-23\n"
     ]
    }
   ],
   "source": [
    "todo_list.display_pending_tasks()"
   ]
  },
  {
   "cell_type": "code",
   "execution_count": null,
   "id": "13dc4ef2-6c24-4cf2-bd9c-20a4a385b34d",
   "metadata": {},
   "outputs": [],
   "source": []
  }
 ],
 "metadata": {
  "kernelspec": {
   "display_name": "Python 3 (ipykernel)",
   "language": "python",
   "name": "python3"
  },
  "language_info": {
   "codemirror_mode": {
    "name": "ipython",
    "version": 3
   },
   "file_extension": ".py",
   "mimetype": "text/x-python",
   "name": "python",
   "nbconvert_exporter": "python",
   "pygments_lexer": "ipython3",
   "version": "3.10.8"
  }
 },
 "nbformat": 4,
 "nbformat_minor": 5
}
