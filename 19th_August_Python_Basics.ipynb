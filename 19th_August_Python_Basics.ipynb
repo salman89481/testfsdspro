{
 "cells": [
  {
   "cell_type": "code",
   "execution_count": 2,
   "id": "5fc7426c-5d67-4738-ae1b-3829bbce6e04",
   "metadata": {},
   "outputs": [
    {
     "name": "stdout",
     "output_type": "stream",
     "text": [
      "12 10\n"
     ]
    }
   ],
   "source": [
    "# Topic : Python Basics Variable \n",
    "# Question 1\n",
    "x=10\n",
    "y=12\n",
    "x=x+y\n",
    "y=x-y\n",
    "x=x-y\n",
    "print(x,y)"
   ]
  },
  {
   "cell_type": "code",
   "execution_count": 4,
   "id": "26392d08-dfcf-49ab-8ebe-ce1861dc0d78",
   "metadata": {},
   "outputs": [
    {
     "name": "stdin",
     "output_type": "stream",
     "text": [
      "Enter the length of rectangle :  10\n",
      "Enter the width of rectangle :  8\n"
     ]
    },
    {
     "name": "stdout",
     "output_type": "stream",
     "text": [
      "80\n"
     ]
    }
   ],
   "source": [
    "# question 2\n",
    "length = int (input(\"Enter the length of rectangle : \"))\n",
    "width = int (input(\"Enter the width of rectangle : \"))\n",
    "area=length*width\n",
    "print(area)"
   ]
  },
  {
   "cell_type": "code",
   "execution_count": 5,
   "id": "e6826fa0-c115-4de1-b4fe-bc8b5a4b6b8a",
   "metadata": {},
   "outputs": [
    {
     "name": "stdin",
     "output_type": "stream",
     "text": [
      "Enter temp. in celsius scale 35\n"
     ]
    },
    {
     "name": "stdout",
     "output_type": "stream",
     "text": [
      "95.0\n"
     ]
    }
   ],
   "source": [
    "#question 3\n",
    "celsius = float(input(\"Enter temp. in celsius scale\"))\n",
    "farenheit = (celsius*9)/5+32\n",
    "print(farenheit)"
   ]
  },
  {
   "cell_type": "code",
   "execution_count": 6,
   "id": "97eb5e00-5381-4373-b1be-d037d13c87f3",
   "metadata": {},
   "outputs": [],
   "source": [
    "#TOPIC: String Based Questions"
   ]
  },
  {
   "cell_type": "code",
   "execution_count": 8,
   "id": "52b9bc85-58de-4784-bdbc-8b3b899f7e41",
   "metadata": {},
   "outputs": [
    {
     "name": "stdin",
     "output_type": "stream",
     "text": [
      "Enter the string: Hi sir, You are teaching good.\n"
     ]
    },
    {
     "name": "stdout",
     "output_type": "stream",
     "text": [
      "30\n"
     ]
    }
   ],
   "source": [
    "#question 1\n",
    "paragraph = input(\"Enter the string:\")\n",
    "print(len(paragraph))"
   ]
  },
  {
   "cell_type": "code",
   "execution_count": 18,
   "id": "6dea6a30-cb2c-44fa-8f97-5ec41788db43",
   "metadata": {},
   "outputs": [
    {
     "name": "stdin",
     "output_type": "stream",
     "text": [
      "Enter the sentence: salman\n"
     ]
    },
    {
     "name": "stdout",
     "output_type": "stream",
     "text": [
      "2\n"
     ]
    }
   ],
   "source": [
    "#question 2\n",
    "string = input(\"Enter the sentence:\")\n",
    "vowels=0\n",
    "for i in string:\n",
    "    if (i=='a' or i=='A' or i=='e' or i=='E' or i=='i' or i=='I' or i=='o' or i=='O' or i=='u' or i=='U'):\n",
    "        vowels=vowels+1\n",
    "print(vowels)        \n",
    "    "
   ]
  },
  {
   "cell_type": "code",
   "execution_count": 16,
   "id": "aadca74d-9e6e-414b-b2e5-313478c7b231",
   "metadata": {},
   "outputs": [
    {
     "name": "stdout",
     "output_type": "stream",
     "text": [
      "namlas\n"
     ]
    }
   ],
   "source": [
    "#question 3\n",
    "string = 'salman'\n",
    "print(string[-1:-9:-1])"
   ]
  },
  {
   "cell_type": "code",
   "execution_count": 23,
   "id": "a9865e56-98df-4cbe-a7da-f3a77d51791c",
   "metadata": {},
   "outputs": [
    {
     "name": "stdin",
     "output_type": "stream",
     "text": [
      "Enter the string: salman\n"
     ]
    },
    {
     "name": "stdout",
     "output_type": "stream",
     "text": [
      "namlas\n",
      "string is not palindrome\n"
     ]
    }
   ],
   "source": [
    "#question 4\n",
    "string1 = input(\"Enter the string:\")\n",
    "string2 = string1[-1:-(len(string1)+1):-1]\n",
    "print(string2)\n",
    "if (string1 == string2):\n",
    "    print(\"string is palindrome\")\n",
    "else:\n",
    "    print(\"string is not palindrome\")\n",
    "\n",
    "    \n",
    "    \n",
    "    \n"
   ]
  },
  {
   "cell_type": "code",
   "execution_count": 24,
   "id": "51060091-519f-4a32-b715-28ce93e7d247",
   "metadata": {},
   "outputs": [
    {
     "name": "stdin",
     "output_type": "stream",
     "text": [
      "enter the string: salman is a brilliant guy.\n"
     ]
    },
    {
     "name": "stdout",
     "output_type": "stream",
     "text": [
      "salmanisabrilliantguy.\n"
     ]
    }
   ],
   "source": [
    "#question 5\n",
    "string1 = input(\"enter the string:\")\n",
    "modified_string = string1.replace(\" \",\"\")\n",
    "print(modified_string)\n"
   ]
  },
  {
   "cell_type": "code",
   "execution_count": null,
   "id": "43c73b39-9dee-420a-8934-84f0cf95cc4b",
   "metadata": {},
   "outputs": [],
   "source": []
  }
 ],
 "metadata": {
  "kernelspec": {
   "display_name": "Python 3 (ipykernel)",
   "language": "python",
   "name": "python3"
  },
  "language_info": {
   "codemirror_mode": {
    "name": "ipython",
    "version": 3
   },
   "file_extension": ".py",
   "mimetype": "text/x-python",
   "name": "python",
   "nbconvert_exporter": "python",
   "pygments_lexer": "ipython3",
   "version": "3.10.8"
  }
 },
 "nbformat": 4,
 "nbformat_minor": 5
}
